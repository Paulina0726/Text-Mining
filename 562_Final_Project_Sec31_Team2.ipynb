{
  "cells": [
    {
      "cell_type": "markdown",
      "source": [
        "## Topic Modeling"
      ],
      "metadata": {
        "id": "s7UnHnnAyQyC"
      }
    },
    {
      "cell_type": "code",
      "execution_count": 6,
      "metadata": {
        "colab": {
          "base_uri": "https://localhost:8080/"
        },
        "id": "vt1NMiv2D6vl",
        "outputId": "5ad647c3-733b-4737-c8c4-54980139717d"
      },
      "outputs": [
        {
          "output_type": "stream",
          "name": "stderr",
          "text": [
            "[nltk_data] Downloading package stopwords to /root/nltk_data...\n",
            "[nltk_data]   Unzipping corpora/stopwords.zip.\n"
          ]
        }
      ],
      "source": [
        "import pandas as pd\n",
        "import nltk\n",
        "from nltk.corpus import stopwords\n",
        "nltk.download('stopwords')\n",
        "from nltk.tokenize import RegexpTokenizer\n",
        "from nltk.stem.porter import PorterStemmer\n",
        "from gensim import corpora, models\n",
        "import matplotlib.pyplot as plt\n",
        "import seaborn as sns\n"
      ]
    },
    {
      "cell_type": "code",
      "source": [
        "#the module 'sys' allows istalling module from inside Jupyter\n",
        "import sys\n",
        "\n",
        "!{sys.executable} -m pip install numpy\n",
        "import numpy as np\n",
        "\n",
        "!{sys.executable} -m pip install pandas\n",
        "import pandas as pd\n",
        "\n",
        "#Natrual Language ToolKit (NLTK)\n",
        "!{sys.executable} -m pip install nltk\n",
        "import nltk\n",
        "\n",
        "!{sys.executable} -m pip install sklearn\n",
        "from sklearn import metrics\n",
        "#from sklearn.model_selection import GridSearchCV\n",
        "from sklearn.feature_extraction.text import  CountVectorizer #bag-of-words vectorizer \n",
        "from sklearn.decomposition import LatentDirichletAllocation #package for LDA\n"
      ],
      "metadata": {
        "id": "X7fzpChjznrZ"
      },
      "execution_count": null,
      "outputs": []
    },
    {
      "cell_type": "code",
      "source": [
        "from pprint import pprint\n",
        "!{sys.executable} -m pip install pyLDAvis #visualizing LDA\n",
        "import pyLDAvis\n",
        "import pyLDAvis.lda_model"
      ],
      "metadata": {
        "id": "j_UEy7v21ek7"
      },
      "execution_count": null,
      "outputs": []
    },
    {
      "cell_type": "code",
      "source": [
        "# Plotting tools\n",
        "\n",
        "import matplotlib.pyplot as plt\n",
        "%matplotlib inline\n",
        "\n",
        "#define text normalization function\n",
        "%run ./Text_Normalization_Function.ipynb #defining text normalization function\n",
        "\n",
        "#ignore warnings about future changes in functions as they take too much space\n",
        "import warnings\n",
        "warnings.simplefilter(action='ignore', category=FutureWarning)\n",
        "warnings.filterwarnings(\"ignore\", category=DeprecationWarning)"
      ],
      "metadata": {
        "id": "YHjnQ-du0bvw"
      },
      "execution_count": null,
      "outputs": []
    },
    {
      "cell_type": "code",
      "execution_count": 8,
      "metadata": {
        "id": "4kCh82XfFufh",
        "colab": {
          "base_uri": "https://localhost:8080/",
          "height": 1000
        },
        "outputId": "efe6ab56-eb23-4890-f925-ece63801da64"
      },
      "outputs": [
        {
          "output_type": "execute_result",
          "data": {
            "text/plain": [
              "       Unnamed: 0  Clothing ID  Age  \\\n",
              "0               0          767   33   \n",
              "1               1         1080   34   \n",
              "2               2         1077   60   \n",
              "3               3         1049   50   \n",
              "4               4          847   47   \n",
              "...           ...          ...  ...   \n",
              "23481       23481         1104   34   \n",
              "23482       23482          862   48   \n",
              "23483       23483         1104   31   \n",
              "23484       23484         1084   28   \n",
              "23485       23485         1104   52   \n",
              "\n",
              "                                                   Title  \\\n",
              "0                                                    NaN   \n",
              "1                                                    NaN   \n",
              "2                                Some major design flaws   \n",
              "3                                       My favorite buy!   \n",
              "4                                       Flattering shirt   \n",
              "...                                                  ...   \n",
              "23481                     Great dress for many occasions   \n",
              "23482                         Wish it was made of cotton   \n",
              "23483                              Cute, but see through   \n",
              "23484  Very cute dress, perfect for summer parties an...   \n",
              "23485                    Please make more like this one!   \n",
              "\n",
              "                                             Review Text  Rating  \\\n",
              "0      Absolutely wonderful - silky and sexy and comf...       4   \n",
              "1      Love this dress!  it's sooo pretty.  i happene...       5   \n",
              "2      I had such high hopes for this dress and reall...       3   \n",
              "3      I love, love, love this jumpsuit. it's fun, fl...       5   \n",
              "4      This shirt is very flattering to all due to th...       5   \n",
              "...                                                  ...     ...   \n",
              "23481  I was very happy to snag this dress at such a ...       5   \n",
              "23482  It reminds me of maternity clothes. soft, stre...       3   \n",
              "23483  This fit well, but the top was very see throug...       3   \n",
              "23484  I bought this dress for a wedding i have this ...       3   \n",
              "23485  This dress in a lovely platinum is feminine an...       5   \n",
              "\n",
              "       Recommended IND  Positive Feedback Count   Division Name  \\\n",
              "0                    1                        0       Initmates   \n",
              "1                    1                        4         General   \n",
              "2                    0                        0         General   \n",
              "3                    1                        0  General Petite   \n",
              "4                    1                        6         General   \n",
              "...                ...                      ...             ...   \n",
              "23481                1                        0  General Petite   \n",
              "23482                1                        0  General Petite   \n",
              "23483                0                        1  General Petite   \n",
              "23484                1                        2         General   \n",
              "23485                1                       22  General Petite   \n",
              "\n",
              "      Department Name Class Name  \n",
              "0            Intimate  Intimates  \n",
              "1             Dresses    Dresses  \n",
              "2             Dresses    Dresses  \n",
              "3             Bottoms      Pants  \n",
              "4                Tops    Blouses  \n",
              "...               ...        ...  \n",
              "23481         Dresses    Dresses  \n",
              "23482            Tops      Knits  \n",
              "23483         Dresses    Dresses  \n",
              "23484         Dresses    Dresses  \n",
              "23485         Dresses    Dresses  \n",
              "\n",
              "[23486 rows x 11 columns]"
            ],
            "text/html": [
              "\n",
              "  <div id=\"df-76f09f32-ef9c-446a-ab63-2bb4b50272be\">\n",
              "    <div class=\"colab-df-container\">\n",
              "      <div>\n",
              "<style scoped>\n",
              "    .dataframe tbody tr th:only-of-type {\n",
              "        vertical-align: middle;\n",
              "    }\n",
              "\n",
              "    .dataframe tbody tr th {\n",
              "        vertical-align: top;\n",
              "    }\n",
              "\n",
              "    .dataframe thead th {\n",
              "        text-align: right;\n",
              "    }\n",
              "</style>\n",
              "<table border=\"1\" class=\"dataframe\">\n",
              "  <thead>\n",
              "    <tr style=\"text-align: right;\">\n",
              "      <th></th>\n",
              "      <th>Unnamed: 0</th>\n",
              "      <th>Clothing ID</th>\n",
              "      <th>Age</th>\n",
              "      <th>Title</th>\n",
              "      <th>Review Text</th>\n",
              "      <th>Rating</th>\n",
              "      <th>Recommended IND</th>\n",
              "      <th>Positive Feedback Count</th>\n",
              "      <th>Division Name</th>\n",
              "      <th>Department Name</th>\n",
              "      <th>Class Name</th>\n",
              "    </tr>\n",
              "  </thead>\n",
              "  <tbody>\n",
              "    <tr>\n",
              "      <th>0</th>\n",
              "      <td>0</td>\n",
              "      <td>767</td>\n",
              "      <td>33</td>\n",
              "      <td>NaN</td>\n",
              "      <td>Absolutely wonderful - silky and sexy and comf...</td>\n",
              "      <td>4</td>\n",
              "      <td>1</td>\n",
              "      <td>0</td>\n",
              "      <td>Initmates</td>\n",
              "      <td>Intimate</td>\n",
              "      <td>Intimates</td>\n",
              "    </tr>\n",
              "    <tr>\n",
              "      <th>1</th>\n",
              "      <td>1</td>\n",
              "      <td>1080</td>\n",
              "      <td>34</td>\n",
              "      <td>NaN</td>\n",
              "      <td>Love this dress!  it's sooo pretty.  i happene...</td>\n",
              "      <td>5</td>\n",
              "      <td>1</td>\n",
              "      <td>4</td>\n",
              "      <td>General</td>\n",
              "      <td>Dresses</td>\n",
              "      <td>Dresses</td>\n",
              "    </tr>\n",
              "    <tr>\n",
              "      <th>2</th>\n",
              "      <td>2</td>\n",
              "      <td>1077</td>\n",
              "      <td>60</td>\n",
              "      <td>Some major design flaws</td>\n",
              "      <td>I had such high hopes for this dress and reall...</td>\n",
              "      <td>3</td>\n",
              "      <td>0</td>\n",
              "      <td>0</td>\n",
              "      <td>General</td>\n",
              "      <td>Dresses</td>\n",
              "      <td>Dresses</td>\n",
              "    </tr>\n",
              "    <tr>\n",
              "      <th>3</th>\n",
              "      <td>3</td>\n",
              "      <td>1049</td>\n",
              "      <td>50</td>\n",
              "      <td>My favorite buy!</td>\n",
              "      <td>I love, love, love this jumpsuit. it's fun, fl...</td>\n",
              "      <td>5</td>\n",
              "      <td>1</td>\n",
              "      <td>0</td>\n",
              "      <td>General Petite</td>\n",
              "      <td>Bottoms</td>\n",
              "      <td>Pants</td>\n",
              "    </tr>\n",
              "    <tr>\n",
              "      <th>4</th>\n",
              "      <td>4</td>\n",
              "      <td>847</td>\n",
              "      <td>47</td>\n",
              "      <td>Flattering shirt</td>\n",
              "      <td>This shirt is very flattering to all due to th...</td>\n",
              "      <td>5</td>\n",
              "      <td>1</td>\n",
              "      <td>6</td>\n",
              "      <td>General</td>\n",
              "      <td>Tops</td>\n",
              "      <td>Blouses</td>\n",
              "    </tr>\n",
              "    <tr>\n",
              "      <th>...</th>\n",
              "      <td>...</td>\n",
              "      <td>...</td>\n",
              "      <td>...</td>\n",
              "      <td>...</td>\n",
              "      <td>...</td>\n",
              "      <td>...</td>\n",
              "      <td>...</td>\n",
              "      <td>...</td>\n",
              "      <td>...</td>\n",
              "      <td>...</td>\n",
              "      <td>...</td>\n",
              "    </tr>\n",
              "    <tr>\n",
              "      <th>23481</th>\n",
              "      <td>23481</td>\n",
              "      <td>1104</td>\n",
              "      <td>34</td>\n",
              "      <td>Great dress for many occasions</td>\n",
              "      <td>I was very happy to snag this dress at such a ...</td>\n",
              "      <td>5</td>\n",
              "      <td>1</td>\n",
              "      <td>0</td>\n",
              "      <td>General Petite</td>\n",
              "      <td>Dresses</td>\n",
              "      <td>Dresses</td>\n",
              "    </tr>\n",
              "    <tr>\n",
              "      <th>23482</th>\n",
              "      <td>23482</td>\n",
              "      <td>862</td>\n",
              "      <td>48</td>\n",
              "      <td>Wish it was made of cotton</td>\n",
              "      <td>It reminds me of maternity clothes. soft, stre...</td>\n",
              "      <td>3</td>\n",
              "      <td>1</td>\n",
              "      <td>0</td>\n",
              "      <td>General Petite</td>\n",
              "      <td>Tops</td>\n",
              "      <td>Knits</td>\n",
              "    </tr>\n",
              "    <tr>\n",
              "      <th>23483</th>\n",
              "      <td>23483</td>\n",
              "      <td>1104</td>\n",
              "      <td>31</td>\n",
              "      <td>Cute, but see through</td>\n",
              "      <td>This fit well, but the top was very see throug...</td>\n",
              "      <td>3</td>\n",
              "      <td>0</td>\n",
              "      <td>1</td>\n",
              "      <td>General Petite</td>\n",
              "      <td>Dresses</td>\n",
              "      <td>Dresses</td>\n",
              "    </tr>\n",
              "    <tr>\n",
              "      <th>23484</th>\n",
              "      <td>23484</td>\n",
              "      <td>1084</td>\n",
              "      <td>28</td>\n",
              "      <td>Very cute dress, perfect for summer parties an...</td>\n",
              "      <td>I bought this dress for a wedding i have this ...</td>\n",
              "      <td>3</td>\n",
              "      <td>1</td>\n",
              "      <td>2</td>\n",
              "      <td>General</td>\n",
              "      <td>Dresses</td>\n",
              "      <td>Dresses</td>\n",
              "    </tr>\n",
              "    <tr>\n",
              "      <th>23485</th>\n",
              "      <td>23485</td>\n",
              "      <td>1104</td>\n",
              "      <td>52</td>\n",
              "      <td>Please make more like this one!</td>\n",
              "      <td>This dress in a lovely platinum is feminine an...</td>\n",
              "      <td>5</td>\n",
              "      <td>1</td>\n",
              "      <td>22</td>\n",
              "      <td>General Petite</td>\n",
              "      <td>Dresses</td>\n",
              "      <td>Dresses</td>\n",
              "    </tr>\n",
              "  </tbody>\n",
              "</table>\n",
              "<p>23486 rows × 11 columns</p>\n",
              "</div>\n",
              "      <button class=\"colab-df-convert\" onclick=\"convertToInteractive('df-76f09f32-ef9c-446a-ab63-2bb4b50272be')\"\n",
              "              title=\"Convert this dataframe to an interactive table.\"\n",
              "              style=\"display:none;\">\n",
              "        \n",
              "  <svg xmlns=\"http://www.w3.org/2000/svg\" height=\"24px\"viewBox=\"0 0 24 24\"\n",
              "       width=\"24px\">\n",
              "    <path d=\"M0 0h24v24H0V0z\" fill=\"none\"/>\n",
              "    <path d=\"M18.56 5.44l.94 2.06.94-2.06 2.06-.94-2.06-.94-.94-2.06-.94 2.06-2.06.94zm-11 1L8.5 8.5l.94-2.06 2.06-.94-2.06-.94L8.5 2.5l-.94 2.06-2.06.94zm10 10l.94 2.06.94-2.06 2.06-.94-2.06-.94-.94-2.06-.94 2.06-2.06.94z\"/><path d=\"M17.41 7.96l-1.37-1.37c-.4-.4-.92-.59-1.43-.59-.52 0-1.04.2-1.43.59L10.3 9.45l-7.72 7.72c-.78.78-.78 2.05 0 2.83L4 21.41c.39.39.9.59 1.41.59.51 0 1.02-.2 1.41-.59l7.78-7.78 2.81-2.81c.8-.78.8-2.07 0-2.86zM5.41 20L4 18.59l7.72-7.72 1.47 1.35L5.41 20z\"/>\n",
              "  </svg>\n",
              "      </button>\n",
              "      \n",
              "  <style>\n",
              "    .colab-df-container {\n",
              "      display:flex;\n",
              "      flex-wrap:wrap;\n",
              "      gap: 12px;\n",
              "    }\n",
              "\n",
              "    .colab-df-convert {\n",
              "      background-color: #E8F0FE;\n",
              "      border: none;\n",
              "      border-radius: 50%;\n",
              "      cursor: pointer;\n",
              "      display: none;\n",
              "      fill: #1967D2;\n",
              "      height: 32px;\n",
              "      padding: 0 0 0 0;\n",
              "      width: 32px;\n",
              "    }\n",
              "\n",
              "    .colab-df-convert:hover {\n",
              "      background-color: #E2EBFA;\n",
              "      box-shadow: 0px 1px 2px rgba(60, 64, 67, 0.3), 0px 1px 3px 1px rgba(60, 64, 67, 0.15);\n",
              "      fill: #174EA6;\n",
              "    }\n",
              "\n",
              "    [theme=dark] .colab-df-convert {\n",
              "      background-color: #3B4455;\n",
              "      fill: #D2E3FC;\n",
              "    }\n",
              "\n",
              "    [theme=dark] .colab-df-convert:hover {\n",
              "      background-color: #434B5C;\n",
              "      box-shadow: 0px 1px 3px 1px rgba(0, 0, 0, 0.15);\n",
              "      filter: drop-shadow(0px 1px 2px rgba(0, 0, 0, 0.3));\n",
              "      fill: #FFFFFF;\n",
              "    }\n",
              "  </style>\n",
              "\n",
              "      <script>\n",
              "        const buttonEl =\n",
              "          document.querySelector('#df-76f09f32-ef9c-446a-ab63-2bb4b50272be button.colab-df-convert');\n",
              "        buttonEl.style.display =\n",
              "          google.colab.kernel.accessAllowed ? 'block' : 'none';\n",
              "\n",
              "        async function convertToInteractive(key) {\n",
              "          const element = document.querySelector('#df-76f09f32-ef9c-446a-ab63-2bb4b50272be');\n",
              "          const dataTable =\n",
              "            await google.colab.kernel.invokeFunction('convertToInteractive',\n",
              "                                                     [key], {});\n",
              "          if (!dataTable) return;\n",
              "\n",
              "          const docLinkHtml = 'Like what you see? Visit the ' +\n",
              "            '<a target=\"_blank\" href=https://colab.research.google.com/notebooks/data_table.ipynb>data table notebook</a>'\n",
              "            + ' to learn more about interactive tables.';\n",
              "          element.innerHTML = '';\n",
              "          dataTable['output_type'] = 'display_data';\n",
              "          await google.colab.output.renderOutput(dataTable, element);\n",
              "          const docLink = document.createElement('div');\n",
              "          docLink.innerHTML = docLinkHtml;\n",
              "          element.appendChild(docLink);\n",
              "        }\n",
              "      </script>\n",
              "    </div>\n",
              "  </div>\n",
              "  "
            ]
          },
          "metadata": {},
          "execution_count": 8
        }
      ],
      "source": [
        "#Import data\n",
        "df = pd.read_csv('Womens Clothing E-Commerce Reviews.csv')\n",
        "df"
      ]
    },
    {
      "cell_type": "code",
      "source": [
        "print(df.columns)"
      ],
      "metadata": {
        "colab": {
          "base_uri": "https://localhost:8080/"
        },
        "id": "Ri_niZdtZcDq",
        "outputId": "149b77f1-d774-4eb1-80a7-519ea1fa11f9"
      },
      "execution_count": 12,
      "outputs": [
        {
          "output_type": "stream",
          "name": "stdout",
          "text": [
            "Index(['Unnamed: 0', 'Clothing ID', 'Age', 'Title', 'Review Text', 'Rating',\n",
            "       'Recommended IND', 'Positive Feedback Count', 'Division Name',\n",
            "       'Department Name', 'Class Name'],\n",
            "      dtype='object')\n"
          ]
        }
      ]
    },
    {
      "cell_type": "code",
      "source": [
        "print(df.describe())"
      ],
      "metadata": {
        "colab": {
          "base_uri": "https://localhost:8080/"
        },
        "id": "sfBkKm7PZghe",
        "outputId": "7e54d0d4-b066-48a3-a266-a75596f34327"
      },
      "execution_count": 13,
      "outputs": [
        {
          "output_type": "stream",
          "name": "stdout",
          "text": [
            "         Unnamed: 0   Clothing ID           Age        Rating  \\\n",
            "count  23486.000000  23486.000000  23486.000000  23486.000000   \n",
            "mean   11742.500000    918.118709     43.198544      4.196032   \n",
            "std     6779.968547    203.298980     12.279544      1.110031   \n",
            "min        0.000000      0.000000     18.000000      1.000000   \n",
            "25%     5871.250000    861.000000     34.000000      4.000000   \n",
            "50%    11742.500000    936.000000     41.000000      5.000000   \n",
            "75%    17613.750000   1078.000000     52.000000      5.000000   \n",
            "max    23485.000000   1205.000000     99.000000      5.000000   \n",
            "\n",
            "       Recommended IND  Positive Feedback Count  \n",
            "count     23486.000000             23486.000000  \n",
            "mean          0.822362                 2.535936  \n",
            "std           0.382216                 5.702202  \n",
            "min           0.000000                 0.000000  \n",
            "25%           1.000000                 0.000000  \n",
            "50%           1.000000                 1.000000  \n",
            "75%           1.000000                 3.000000  \n",
            "max           1.000000               122.000000  \n"
          ]
        }
      ]
    },
    {
      "cell_type": "code",
      "execution_count": 15,
      "metadata": {
        "id": "BsMQuTmtH8Yf"
      },
      "outputs": [],
      "source": [
        "# Group by department\n",
        "grouped = df.groupby('Department Name')"
      ]
    },
    {
      "cell_type": "code",
      "source": [
        "# Create empty dictionary\n",
        "word_dict = {}"
      ],
      "metadata": {
        "id": "ASq165X3urFS"
      },
      "execution_count": 14,
      "outputs": []
    },
    {
      "cell_type": "code",
      "execution_count": 16,
      "metadata": {
        "id": "Dn2iOhnHF3ql"
      },
      "outputs": [],
      "source": [
        "# Preprocess the data: Tokenization, stopwords, stemming\n",
        "tokenizer = RegexpTokenizer(r'\\w+')\n",
        "en_stopwords = stopwords.words('english')\n",
        "p_stemmer = PorterStemmer()"
      ]
    },
    {
      "cell_type": "code",
      "source": [
        "# extract the review text and fill the nas\n",
        "df['Review Text'].fillna('', inplace=True)"
      ],
      "metadata": {
        "id": "8M_XLkCuvFD7"
      },
      "execution_count": 17,
      "outputs": []
    },
    {
      "cell_type": "code",
      "execution_count": 40,
      "metadata": {
        "id": "MpLp0d1WGXtw"
      },
      "outputs": [],
      "source": [
        "\n",
        "def process_text(text):\n",
        "    raw = str(text).lower()\n",
        "    tokens = tokenizer.tokenize(raw)\n",
        "    stopped_tokens = [token for token in tokens if not token in en_stopwords]\n",
        "    stemmed_tokens = [p_stemmer.stem(token) for token in stopped_tokens]\n",
        "    return stemmed_tokens"
      ]
    },
    {
      "cell_type": "code",
      "execution_count": 41,
      "metadata": {
        "colab": {
          "base_uri": "https://localhost:8080/"
        },
        "id": "mEEq-6oWG69P",
        "outputId": "9ddea3fe-fb98-456d-ddfb-a3b48ebde372"
      },
      "outputs": [
        {
          "output_type": "stream",
          "name": "stderr",
          "text": [
            "WARNING:gensim.models.ldamodel:too few updates, training might not converge; consider increasing the number of passes or iterations to improve accuracy\n",
            "WARNING:gensim.models.ldamodel:too few updates, training might not converge; consider increasing the number of passes or iterations to improve accuracy\n",
            "WARNING:gensim.models.ldamodel:too few updates, training might not converge; consider increasing the number of passes or iterations to improve accuracy\n",
            "WARNING:gensim.models.ldamodel:too few updates, training might not converge; consider increasing the number of passes or iterations to improve accuracy\n"
          ]
        }
      ],
      "source": [
        "# Train LDA models by department\n",
        "ldamodels = {}\n",
        "for name, group in grouped:\n",
        "    texts = [process_text(text) for text in group['Review Text']]\n",
        "    dictionary = corpora.Dictionary(texts)\n",
        "    corpus = [dictionary.doc2bow(text) for text in texts]\n",
        "    ldamodel = models.LdaModel(corpus, num_topics=10, id2word=dictionary, passes=5)\n",
        "    ldamodels[name] = ldamodel"
      ]
    },
    {
      "cell_type": "code",
      "execution_count": 42,
      "metadata": {
        "id": "kk4peqeIJn_w"
      },
      "outputs": [],
      "source": [
        "# Define the function of coherence and perplexity \n",
        "def compute_metrics(dictionary, corpus, texts, limit, start=2, step=1):\n",
        "    coherence_values = []\n",
        "    perplexity_values = []\n",
        "    model_list = []\n",
        "    for num_topics in range(start, limit+1, step):\n",
        "        model = models.LdaModel(corpus, num_topics=num_topics, id2word=dictionary, passes=5)\n",
        "        model_list.append(model)\n",
        "        coherencemodel = CoherenceModel(model=model, texts=texts, dictionary=dictionary, coherence='c_v')\n",
        "        coherence_values.append(coherencemodel.get_coherence())\n",
        "        perplexity_values.append(model.log_perplexity(corpus))\n",
        "    return model_list, coherence_values, perplexity_values"
      ]
    },
    {
      "cell_type": "code",
      "execution_count": 43,
      "metadata": {
        "colab": {
          "base_uri": "https://localhost:8080/"
        },
        "id": "UHXMwdU3JpMW",
        "outputId": "488fd806-8a07-4b71-a46b-7ffeb360fa82"
      },
      "outputs": [
        {
          "output_type": "stream",
          "name": "stderr",
          "text": [
            "WARNING:gensim.models.ldamodel:too few updates, training might not converge; consider increasing the number of passes or iterations to improve accuracy\n",
            "WARNING:gensim.models.ldamodel:too few updates, training might not converge; consider increasing the number of passes or iterations to improve accuracy\n",
            "WARNING:gensim.models.ldamodel:too few updates, training might not converge; consider increasing the number of passes or iterations to improve accuracy\n",
            "WARNING:gensim.models.ldamodel:too few updates, training might not converge; consider increasing the number of passes or iterations to improve accuracy\n",
            "WARNING:gensim.models.ldamodel:too few updates, training might not converge; consider increasing the number of passes or iterations to improve accuracy\n",
            "WARNING:gensim.models.ldamodel:too few updates, training might not converge; consider increasing the number of passes or iterations to improve accuracy\n",
            "WARNING:gensim.models.ldamodel:too few updates, training might not converge; consider increasing the number of passes or iterations to improve accuracy\n",
            "WARNING:gensim.models.ldamodel:too few updates, training might not converge; consider increasing the number of passes or iterations to improve accuracy\n",
            "WARNING:gensim.models.ldamodel:too few updates, training might not converge; consider increasing the number of passes or iterations to improve accuracy\n",
            "WARNING:gensim.models.ldamodel:too few updates, training might not converge; consider increasing the number of passes or iterations to improve accuracy\n",
            "WARNING:gensim.models.ldamodel:too few updates, training might not converge; consider increasing the number of passes or iterations to improve accuracy\n",
            "WARNING:gensim.models.ldamodel:too few updates, training might not converge; consider increasing the number of passes or iterations to improve accuracy\n",
            "WARNING:gensim.models.ldamodel:too few updates, training might not converge; consider increasing the number of passes or iterations to improve accuracy\n",
            "WARNING:gensim.models.ldamodel:too few updates, training might not converge; consider increasing the number of passes or iterations to improve accuracy\n",
            "WARNING:gensim.models.ldamodel:too few updates, training might not converge; consider increasing the number of passes or iterations to improve accuracy\n",
            "WARNING:gensim.models.ldamodel:too few updates, training might not converge; consider increasing the number of passes or iterations to improve accuracy\n"
          ]
        }
      ],
      "source": [
        "# Find the optimal topic number\n",
        "from gensim.models.coherencemodel import CoherenceModel\n",
        "best_num_topics = {}\n",
        "for name, group in grouped:\n",
        "    texts = [process_text(text) for text in group['Review Text']]\n",
        "    dictionary = corpora.Dictionary(texts)\n",
        "    corpus = [dictionary.doc2bow(text) for text in texts]\n",
        "    model_list, coherence_values, perplexity_values = compute_metrics(dictionary, corpus, texts, limit=5, step=1)\n",
        "    best_num_topics[name] = coherence_values.index(max(coherence_values)) + 2"
      ]
    },
    {
      "cell_type": "code",
      "source": [
        "# Print best number of topics for each group\n",
        "for name, num_topics in best_num_topics.items():\n",
        "    print(f\"Department Name: {name}, Best Number of Topics: {num_topics}\")"
      ],
      "metadata": {
        "colab": {
          "base_uri": "https://localhost:8080/"
        },
        "id": "YFC5BefIxn0d",
        "outputId": "83ced371-bb7a-4ac2-e592-2988fe81d843"
      },
      "execution_count": 44,
      "outputs": [
        {
          "output_type": "stream",
          "name": "stdout",
          "text": [
            "Department Name: Bottoms, Best Number of Topics: 2\n",
            "Department Name: Dresses, Best Number of Topics: 3\n",
            "Department Name: Intimate, Best Number of Topics: 2\n",
            "Department Name: Jackets, Best Number of Topics: 3\n",
            "Department Name: Tops, Best Number of Topics: 5\n",
            "Department Name: Trend, Best Number of Topics: 4\n"
          ]
        }
      ]
    },
    {
      "cell_type": "code",
      "source": [
        "# Train LDA models with the best number of topics for each group\n",
        "lda_models = {}\n",
        "for name, group in grouped:\n",
        "    texts = [process_text(text) for text in group['Review Text']]\n",
        "    dictionary = corpora.Dictionary(texts)\n",
        "    corpus = [dictionary.doc2bow(text) for text in texts]\n",
        "    num_topics = best_num_topics[name]\n",
        "    lda_model = models.LdaModel(corpus, num_topics=num_topics, id2word=dictionary, passes=5)\n",
        "    lda_models[name] = lda_model\n"
      ],
      "metadata": {
        "id": "ufTcSUrCx_O2",
        "colab": {
          "base_uri": "https://localhost:8080/"
        },
        "outputId": "b45b4bf8-02c0-4f2c-f66c-4f450c60e3fc"
      },
      "execution_count": 45,
      "outputs": [
        {
          "output_type": "stream",
          "name": "stderr",
          "text": [
            "WARNING:gensim.models.ldamodel:too few updates, training might not converge; consider increasing the number of passes or iterations to improve accuracy\n",
            "WARNING:gensim.models.ldamodel:too few updates, training might not converge; consider increasing the number of passes or iterations to improve accuracy\n",
            "WARNING:gensim.models.ldamodel:too few updates, training might not converge; consider increasing the number of passes or iterations to improve accuracy\n",
            "WARNING:gensim.models.ldamodel:too few updates, training might not converge; consider increasing the number of passes or iterations to improve accuracy\n"
          ]
        }
      ]
    },
    {
      "cell_type": "code",
      "execution_count": 46,
      "metadata": {
        "colab": {
          "base_uri": "https://localhost:8080/"
        },
        "id": "6j02jgwuJGvV",
        "outputId": "69845d5b-7354-4e99-fd0d-1012cef4729d"
      },
      "outputs": [
        {
          "output_type": "stream",
          "name": "stdout",
          "text": [
            "Department Name: Bottoms\n",
            "Topic 1: 0.027*\"fit\" + 0.022*\"size\" + 0.020*\"pant\" + 0.018*\"love\" + 0.017*\"jean\" + 0.013*\"wear\" + 0.013*\"look\" + 0.013*\"like\" + 0.013*\"great\" + 0.012*\"5\"\n",
            "Topic 2: 0.028*\"skirt\" + 0.016*\"love\" + 0.015*\"size\" + 0.012*\"color\" + 0.011*\"look\" + 0.011*\"fit\" + 0.010*\"waist\" + 0.010*\"fabric\" + 0.010*\"wear\" + 0.009*\"small\"\n",
            "Department Name: Dresses\n",
            "Topic 1: 0.045*\"dress\" + 0.034*\"size\" + 0.026*\"fit\" + 0.025*\"5\" + 0.016*\"small\" + 0.015*\"order\" + 0.015*\"petit\" + 0.013*\"love\" + 0.011*\"4\" + 0.010*\"wear\"\n",
            "Topic 2: 0.063*\"dress\" + 0.020*\"love\" + 0.020*\"look\" + 0.014*\"fit\" + 0.013*\"wear\" + 0.012*\"great\" + 0.012*\"color\" + 0.012*\"fabric\" + 0.011*\"like\" + 0.010*\"flatter\"\n",
            "Topic 3: 0.040*\"dress\" + 0.018*\"like\" + 0.014*\"look\" + 0.011*\"back\" + 0.010*\"review\" + 0.009*\"one\" + 0.009*\"fit\" + 0.008*\"fabric\" + 0.008*\"tri\" + 0.008*\"love\"\n",
            "Department Name: Intimate\n",
            "Topic 1: 0.019*\"fit\" + 0.017*\"love\" + 0.014*\"wear\" + 0.014*\"size\" + 0.013*\"top\" + 0.012*\"like\" + 0.011*\"great\" + 0.011*\"look\" + 0.010*\"small\" + 0.009*\"dress\"\n",
            "Topic 2: 0.018*\"size\" + 0.012*\"love\" + 0.012*\"wear\" + 0.010*\"color\" + 0.010*\"look\" + 0.010*\"like\" + 0.010*\"fit\" + 0.010*\"suit\" + 0.009*\"order\" + 0.009*\"leg\"\n",
            "Department Name: Jackets\n",
            "Topic 1: 0.025*\"jacket\" + 0.019*\"size\" + 0.018*\"fit\" + 0.018*\"look\" + 0.017*\"love\" + 0.014*\"like\" + 0.012*\"wear\" + 0.011*\"color\" + 0.010*\"great\" + 0.009*\"small\"\n",
            "Topic 2: 0.020*\"love\" + 0.017*\"coat\" + 0.014*\"look\" + 0.013*\"wear\" + 0.009*\"vest\" + 0.008*\"jacket\" + 0.008*\"great\" + 0.008*\"one\" + 0.008*\"color\" + 0.008*\"piec\"\n",
            "Topic 3: 0.024*\"jacket\" + 0.016*\"fit\" + 0.013*\"look\" + 0.012*\"small\" + 0.012*\"like\" + 0.011*\"size\" + 0.011*\"order\" + 0.011*\"would\" + 0.010*\"love\" + 0.009*\"color\"\n",
            "Department Name: Tops\n",
            "Topic 1: 0.033*\"size\" + 0.029*\"top\" + 0.026*\"fit\" + 0.023*\"small\" + 0.020*\"5\" + 0.014*\"wear\" + 0.014*\"order\" + 0.013*\"xs\" + 0.012*\"usual\" + 0.012*\"medium\"\n",
            "Topic 2: 0.028*\"top\" + 0.026*\"love\" + 0.024*\"jean\" + 0.020*\"great\" + 0.020*\"look\" + 0.019*\"wear\" + 0.017*\"color\" + 0.010*\"black\" + 0.010*\"one\" + 0.010*\"bought\"\n",
            "Topic 3: 0.032*\"look\" + 0.029*\"top\" + 0.028*\"like\" + 0.014*\"back\" + 0.013*\"would\" + 0.012*\"love\" + 0.012*\"fabric\" + 0.011*\"realli\" + 0.011*\"sleev\" + 0.011*\"fit\"\n",
            "Topic 4: 0.038*\"sweater\" + 0.031*\"love\" + 0.021*\"color\" + 0.017*\"soft\" + 0.017*\"wear\" + 0.016*\"fit\" + 0.015*\"great\" + 0.011*\"sleev\" + 0.010*\"perfect\" + 0.010*\"beauti\"\n",
            "Topic 5: 0.065*\"shirt\" + 0.019*\"cute\" + 0.018*\"like\" + 0.017*\"littl\" + 0.016*\"materi\" + 0.013*\"look\" + 0.013*\"top\" + 0.013*\"nice\" + 0.013*\"fit\" + 0.013*\"price\"\n",
            "Department Name: Trend\n",
            "Topic 1: 0.017*\"love\" + 0.017*\"fit\" + 0.011*\"size\" + 0.011*\"like\" + 0.011*\"dress\" + 0.008*\"usual\" + 0.008*\"great\" + 0.008*\"5\" + 0.008*\"top\" + 0.008*\"pictur\"\n",
            "Topic 2: 0.017*\"look\" + 0.015*\"like\" + 0.012*\"wear\" + 0.011*\"love\" + 0.010*\"size\" + 0.009*\"fit\" + 0.009*\"waist\" + 0.008*\"would\" + 0.007*\"small\" + 0.006*\"tri\"\n",
            "Topic 3: 0.009*\"top\" + 0.008*\"saw\" + 0.008*\"fit\" + 0.008*\"dress\" + 0.007*\"previou\" + 0.006*\"review\" + 0.006*\"howev\" + 0.006*\"thought\" + 0.006*\"size\" + 0.006*\"realli\"\n",
            "Topic 4: 0.031*\"dress\" + 0.017*\"size\" + 0.017*\"look\" + 0.013*\"like\" + 0.013*\"fit\" + 0.012*\"fabric\" + 0.011*\"color\" + 0.010*\"wear\" + 0.010*\"order\" + 0.010*\"love\"\n"
          ]
        }
      ],
      "source": [
        "# Print LDA topics for each group\n",
        "for name, lda_model in lda_models.items():\n",
        "    print(f\"Department Name: {name}\")\n",
        "    for topic_id, topic in lda_model.print_topics(num_topics=best_num_topics[name]):\n",
        "        print(f\"Topic {topic_id+1}: {topic}\")"
      ]
    },
    {
      "cell_type": "markdown",
      "source": [
        "Labels for each topic in each department based on the most frequent words that appear in each topic (generated by ChatGPT and adjusted manually)\n",
        "\n",
        "**For the department \"Bottoms\":**\n",
        "\n",
        "Topic 1: \"Fit and Comfortable Jeans and Pants\" \\\n",
        "Topic 2: \"Skirts in Various Colors and Fabrics\"\n",
        "\n",
        "**For the department \"Dresses\":**\n",
        "\n",
        "Topic 1: \"Sizing and Fit for Petite Women\" \\\n",
        "Topic 2: \"Flattering and Comfortable Dresses\" \\\n",
        "Topic 3: \"Overall Look and Back Design\"\n",
        "\n",
        "**For the department \"Intimate\":**\n",
        "\n",
        "Topic 1: \"Fit, wearability, and love for tops and dresses\" \\\n",
        "Topic 2: \"Fitting and Sizing Issues for Suits and Leggings\"\n",
        "\n",
        "**For the department \"Jackets\":**\n",
        "\n",
        "Topic 1: \"Comfortable and Fitting Jackets\" \\\n",
        "Topic 2: \"Coats and Vests for Different Occasions\" \\\n",
        "Topic 3: \"Fitting and Sizing Issues\"\n",
        "\n",
        "**For the department \"Tops\":**\n",
        "\n",
        "Topic 1: \"Fitting and Sizing Issues for Tops\" \\\n",
        "Topic 2: \"Versatile and Stylish Tops for Different Occasions\" \\\n",
        "Topic 3: \"Quality and Design Feedback\" \\\n",
        "Topic 4: \"Soft and Comfortable Sweaters in Various Colors\"\n",
        "\n",
        "\n",
        "**For the department \"Trend\":**\n",
        "\n",
        "Topic 1: fit and fabric \\\n",
        "Topic 2: color and overall appearance \\"
      ],
      "metadata": {
        "id": "bQK9qeuQ-YRE"
      }
    },
    {
      "cell_type": "markdown",
      "source": [
        "The insights we can gather from the topics generated by the LDA model are the most probable topics that customers are discussing or interested in regarding each department's products. For example, for the bottoms department, customers are most likely concerned about the fit and size of pants and jeans, while for dresses, customers are interested in the dress size and fit, particularly for petite sizes, as well as the style, color, and fabric that flatters the wearer. For jackets, customers are concerned about the jacket size, fit, and look, particularly how they flatter the wearer, and for tops, customers are interested in the top size and fit, particularly for small sizes, as well as the top style, color, and look, particularly with jeans and overall great wearability. These insights can help the company to better understand what their customers are looking for in their products and make improvements accordingly.  \\\n",
        "\n",
        "They can also offer a wider range of sizes and colors to meet the needs of their customers. Additionally, they can focus on using high-quality materials to improve the overall look and feel of their products. The company can also use the feedback on style and design to create products that are not only functional but also aesthetically pleasing to their customers."
      ],
      "metadata": {
        "id": "-d-BoHCxXB3C"
      }
    },
    {
      "cell_type": "markdown",
      "source": [
        "# Sentiment Analysis"
      ],
      "metadata": {
        "id": "dAGizor8rG7h"
      }
    },
    {
      "cell_type": "markdown",
      "source": [
        "## Train-test split and perform VADER"
      ],
      "metadata": {
        "id": "-NUHiCdVD3fO"
      }
    },
    {
      "cell_type": "markdown",
      "source": [
        "Next, we'd like to perform sentiment analysis on the reviews within each topic to gain insights into how customers feel about specific aspects of the product. For example, within the \"Fit and size of pants and jeans\" topic for the Bottoms department, we could analyze the sentiment of reviews that mention fit and size to determine if customers generally have positive or negative opinions about these aspects of the product. This information could be used to make improvements to the product design, sizing, or marketing messaging."
      ],
      "metadata": {
        "id": "alZlpl3TXtmV"
      }
    },
    {
      "cell_type": "code",
      "source": [
        "#packages needed\n",
        "\n",
        "#ignore warnings about future changes in functions as they take too much space\n",
        "import warnings\n",
        "warnings.simplefilter(action='ignore', category=FutureWarning)\n",
        "warnings.filterwarnings(\"ignore\", category=DeprecationWarning)\n",
        "\n",
        "#the module 'sys' allows istalling module from inside Jupyter\n",
        "import sys\n",
        "\n",
        "!{sys.executable} -m pip install numpy\n",
        "import numpy as np \n",
        "\n",
        "!{sys.executable} -m pip install pandas\n",
        "import pandas as pd\n",
        "\n",
        "#Natrual Language ToolKit (NLTK)\n",
        "!{sys.executable} -m pip install nltk\n",
        "import nltk\n",
        "\n",
        "#text normalization function\n",
        "%run ./Text_Normalization_Function.ipynb\n",
        "\n",
        "#ignore warnings about future changes in functions as they take too much space\n",
        "warnings.simplefilter(action='ignore', category=FutureWarning)\n",
        "warnings.filterwarnings(\"ignore\", category=DeprecationWarning)"
      ],
      "metadata": {
        "id": "lL2BEo-fu5oJ"
      },
      "execution_count": null,
      "outputs": []
    },
    {
      "cell_type": "code",
      "source": [
        "# create polarity based on \"Rating\" column\n",
        "def polarity_group(val):\n",
        "  if val == 1 or val == 2:\n",
        "    return 'negative'\n",
        "  elif val == 3:\n",
        "    return 'netural'\n",
        "  else:\n",
        "    return 'positive'\n",
        "\n",
        "df['polarity'] = df['Rating'].apply(polarity_group)"
      ],
      "metadata": {
        "id": "yZi4pWAMueVK"
      },
      "execution_count": 97,
      "outputs": []
    },
    {
      "cell_type": "code",
      "source": [
        "# Split the data into train and test sets\n",
        "from sklearn.model_selection import train_test_split\n",
        "train_data, test_data = train_test_split(df, test_size=0.2, random_state=42)"
      ],
      "metadata": {
        "id": "LElfj59yg1In"
      },
      "execution_count": 102,
      "outputs": []
    },
    {
      "cell_type": "code",
      "source": [
        "test_reviews = np.array(test_data['Review Text'])\n",
        "test_polarity = np.array(test_data['polarity'])\n",
        "\n",
        "train_reviews = np.array(train_data['Review Text'])\n",
        "train_polarity = np.array(train_data['polarity'])"
      ],
      "metadata": {
        "id": "Il_0AmKQz5Lm"
      },
      "execution_count": 104,
      "outputs": []
    },
    {
      "cell_type": "code",
      "source": [
        "normalized_test_reviews = normalize_corpus(test_reviews)\n",
        "normalized_train_reviews = normalize_corpus(train_reviews)"
      ],
      "metadata": {
        "id": "PKfirrcJ0D4W"
      },
      "execution_count": 105,
      "outputs": []
    },
    {
      "cell_type": "code",
      "source": [
        "def try_threshold_for_accuracy(sentiment_scores, threshold_for_pos):\n",
        "    VADER_binary_polarity = ['positive' if s >= threshold_for_pos else 'negative' for s in list(sentiment_scores)]\n",
        "    accuracy = metrics.accuracy_score(test_polarity, VADER_binary_polarity)\n",
        "    return(accuracy) "
      ],
      "metadata": {
        "id": "jdgq50dF7k_Q"
      },
      "execution_count": 126,
      "outputs": []
    },
    {
      "cell_type": "code",
      "source": [
        "thresholds = np.linspace(-1,1,1000)\n",
        "acc_rates = [try_threshold_for_accuracy(VADER_polarity_test_df['VADER Score'],threshold) for threshold in thresholds]\n",
        "\n",
        "plt.plot(thresholds, acc_rates)\n",
        "plt.xlabel(\"Threshold score for positive (binary) sentiment polarity\")\n",
        "plt.ylabel(\"Accuracy rate\")\n",
        "plt.title(\"Accuracy Rate of Sentiment Polarity Prediction \\n as a Function of Threshold for VADER Scores \\n\")\n",
        "plt.show()"
      ],
      "metadata": {
        "colab": {
          "base_uri": "https://localhost:8080/",
          "height": 513
        },
        "id": "w0JmUz8v5iwC",
        "outputId": "2b107986-b639-4459-df38-86526146c954"
      },
      "execution_count": 127,
      "outputs": [
        {
          "output_type": "display_data",
          "data": {
            "text/plain": [
              "<Figure size 640x480 with 1 Axes>"
            ],
            "image/png": "[encoded data removed]"
          },
          "metadata": {}
        }
      ]
    },
    {
      "cell_type": "code",
      "source": [
        "optimal_threshold = thresholds[acc_rates.index(max(acc_rates))]\n",
        "optimal_threshold"
      ],
      "metadata": {
        "colab": {
          "base_uri": "https://localhost:8080/"
        },
        "id": "8nidWUbd7dU4",
        "outputId": "3b37a8a9-49ff-4b8d-a51f-50e4d9f97124"
      },
      "execution_count": 131,
      "outputs": [
        {
          "output_type": "execute_result",
          "data": {
            "text/plain": [
              "-0.009009009009009028"
            ]
          },
          "metadata": {},
          "execution_count": 131
        }
      ]
    },
    {
      "cell_type": "code",
      "source": [
        "#accuracy rate at optimized threshold\n",
        "max(acc_rates) "
      ],
      "metadata": {
        "colab": {
          "base_uri": "https://localhost:8080/"
        },
        "id": "y3bvX6WU7wLl",
        "outputId": "abbed9ea-c597-4383-f49a-1d2b87fb390e"
      },
      "execution_count": 130,
      "outputs": [
        {
          "output_type": "execute_result",
          "data": {
            "text/plain": [
              "0.779906343124734"
            ]
          },
          "metadata": {},
          "execution_count": 130
        }
      ]
    },
    {
      "cell_type": "code",
      "source": [
        "nltk.download('vader_lexicon')\n",
        "from nltk.sentiment.vader import SentimentIntensityAnalyzer\n",
        "analyzer = SentimentIntensityAnalyzer()\n",
        "\n",
        "def analyze_sentiment_vader_lexicon(review, threshold = 0.1, verbose = False):\n",
        "    scores = analyzer.polarity_scores(review)  \n",
        "    binary_sentiment = 'positive' if scores['compound'] >= threshold else 'negative'\n",
        "    if verbose:                             \n",
        "        print('VADER Polarity (Binary):', binary_sentiment)\n",
        "        print('VADER Score:', round(scores['compound'], 2))\n",
        "    return binary_sentiment,scores['compound']  "
      ],
      "metadata": {
        "colab": {
          "base_uri": "https://localhost:8080/"
        },
        "id": "GioGnPeB5gh5",
        "outputId": "99f69c3e-5287-4015-b1cd-3f2ee50041af"
      },
      "execution_count": 106,
      "outputs": [
        {
          "output_type": "stream",
          "name": "stderr",
          "text": [
            "[nltk_data] Downloading package vader_lexicon to /root/nltk_data...\n",
            "[nltk_data]   Package vader_lexicon is already up-to-date!\n"
          ]
        }
      ]
    },
    {
      "cell_type": "markdown",
      "source": [
        "Let's score now all costumer reviews in the test dataset:"
      ],
      "metadata": {
        "id": "MwQBLr7j1B3H"
      }
    },
    {
      "cell_type": "markdown",
      "source": [
        "(We are adjusting threshold. It was optimal_threshold = -0.009. We are gradually lowering it to reduce false negatives)"
      ],
      "metadata": {
        "id": "UQl6ZX1dEfvC"
      }
    },
    {
      "cell_type": "code",
      "source": [
        "VADER_polarity_test = [analyze_sentiment_vader_lexicon(review, threshold= optimal_threshold) for review in test_reviews]\n",
        "VADER_polarity_test_df = pd.DataFrame(VADER_polarity_test, columns = ['VADER Polarity','VADER Score'])\n",
        "VADER_polarity_test_df.head()"
      ],
      "metadata": {
        "colab": {
          "base_uri": "https://localhost:8080/",
          "height": 206
        },
        "id": "i6UTHOx61Cf8",
        "outputId": "637e30f7-c5b2-4461-ff46-d43f00929b7a"
      },
      "execution_count": 153,
      "outputs": [
        {
          "output_type": "execute_result",
          "data": {
            "text/plain": [
              "  VADER Polarity  VADER Score\n",
              "0       positive       0.9175\n",
              "1       positive       0.7046\n",
              "2       positive       0.8588\n",
              "3       positive       0.7804\n",
              "4       positive       0.9873"
            ],
            "text/html": [
              "\n",
              "  <div id=\"df-fa20a246-410a-4663-8ec1-4d51ef48204a\">\n",
              "    <div class=\"colab-df-container\">\n",
              "      <div>\n",
              "<style scoped>\n",
              "    .dataframe tbody tr th:only-of-type {\n",
              "        vertical-align: middle;\n",
              "    }\n",
              "\n",
              "    .dataframe tbody tr th {\n",
              "        vertical-align: top;\n",
              "    }\n",
              "\n",
              "    .dataframe thead th {\n",
              "        text-align: right;\n",
              "    }\n",
              "</style>\n",
              "<table border=\"1\" class=\"dataframe\">\n",
              "  <thead>\n",
              "    <tr style=\"text-align: right;\">\n",
              "      <th></th>\n",
              "      <th>VADER Polarity</th>\n",
              "      <th>VADER Score</th>\n",
              "    </tr>\n",
              "  </thead>\n",
              "  <tbody>\n",
              "    <tr>\n",
              "      <th>0</th>\n",
              "      <td>positive</td>\n",
              "      <td>0.9175</td>\n",
              "    </tr>\n",
              "    <tr>\n",
              "      <th>1</th>\n",
              "      <td>positive</td>\n",
              "      <td>0.7046</td>\n",
              "    </tr>\n",
              "    <tr>\n",
              "      <th>2</th>\n",
              "      <td>positive</td>\n",
              "      <td>0.8588</td>\n",
              "    </tr>\n",
              "    <tr>\n",
              "      <th>3</th>\n",
              "      <td>positive</td>\n",
              "      <td>0.7804</td>\n",
              "    </tr>\n",
              "    <tr>\n",
              "      <th>4</th>\n",
              "      <td>positive</td>\n",
              "      <td>0.9873</td>\n",
              "    </tr>\n",
              "  </tbody>\n",
              "</table>\n",
              "</div>\n",
              "      <button class=\"colab-df-convert\" onclick=\"convertToInteractive('df-fa20a246-410a-4663-8ec1-4d51ef48204a')\"\n",
              "              title=\"Convert this dataframe to an interactive table.\"\n",
              "              style=\"display:none;\">\n",
              "        \n",
              "  <svg xmlns=\"http://www.w3.org/2000/svg\" height=\"24px\"viewBox=\"0 0 24 24\"\n",
              "       width=\"24px\">\n",
              "    <path d=\"M0 0h24v24H0V0z\" fill=\"none\"/>\n",
              "    <path d=\"M18.56 5.44l.94 2.06.94-2.06 2.06-.94-2.06-.94-.94-2.06-.94 2.06-2.06.94zm-11 1L8.5 8.5l.94-2.06 2.06-.94-2.06-.94L8.5 2.5l-.94 2.06-2.06.94zm10 10l.94 2.06.94-2.06 2.06-.94-2.06-.94-.94-2.06-.94 2.06-2.06.94z\"/><path d=\"M17.41 7.96l-1.37-1.37c-.4-.4-.92-.59-1.43-.59-.52 0-1.04.2-1.43.59L10.3 9.45l-7.72 7.72c-.78.78-.78 2.05 0 2.83L4 21.41c.39.39.9.59 1.41.59.51 0 1.02-.2 1.41-.59l7.78-7.78 2.81-2.81c.8-.78.8-2.07 0-2.86zM5.41 20L4 18.59l7.72-7.72 1.47 1.35L5.41 20z\"/>\n",
              "  </svg>\n",
              "      </button>\n",
              "      \n",
              "  <style>\n",
              "    .colab-df-container {\n",
              "      display:flex;\n",
              "      flex-wrap:wrap;\n",
              "      gap: 12px;\n",
              "    }\n",
              "\n",
              "    .colab-df-convert {\n",
              "      background-color: #E8F0FE;\n",
              "      border: none;\n",
              "      border-radius: 50%;\n",
              "      cursor: pointer;\n",
              "      display: none;\n",
              "      fill: #1967D2;\n",
              "      height: 32px;\n",
              "      padding: 0 0 0 0;\n",
              "      width: 32px;\n",
              "    }\n",
              "\n",
              "    .colab-df-convert:hover {\n",
              "      background-color: #E2EBFA;\n",
              "      box-shadow: 0px 1px 2px rgba(60, 64, 67, 0.3), 0px 1px 3px 1px rgba(60, 64, 67, 0.15);\n",
              "      fill: #174EA6;\n",
              "    }\n",
              "\n",
              "    [theme=dark] .colab-df-convert {\n",
              "      background-color: #3B4455;\n",
              "      fill: #D2E3FC;\n",
              "    }\n",
              "\n",
              "    [theme=dark] .colab-df-convert:hover {\n",
              "      background-color: #434B5C;\n",
              "      box-shadow: 0px 1px 3px 1px rgba(0, 0, 0, 0.15);\n",
              "      filter: drop-shadow(0px 1px 2px rgba(0, 0, 0, 0.3));\n",
              "      fill: #FFFFFF;\n",
              "    }\n",
              "  </style>\n",
              "\n",
              "      <script>\n",
              "        const buttonEl =\n",
              "          document.querySelector('#df-fa20a246-410a-4663-8ec1-4d51ef48204a button.colab-df-convert');\n",
              "        buttonEl.style.display =\n",
              "          google.colab.kernel.accessAllowed ? 'block' : 'none';\n",
              "\n",
              "        async function convertToInteractive(key) {\n",
              "          const element = document.querySelector('#df-fa20a246-410a-4663-8ec1-4d51ef48204a');\n",
              "          const dataTable =\n",
              "            await google.colab.kernel.invokeFunction('convertToInteractive',\n",
              "                                                     [key], {});\n",
              "          if (!dataTable) return;\n",
              "\n",
              "          const docLinkHtml = 'Like what you see? Visit the ' +\n",
              "            '<a target=\"_blank\" href=https://colab.research.google.com/notebooks/data_table.ipynb>data table notebook</a>'\n",
              "            + ' to learn more about interactive tables.';\n",
              "          element.innerHTML = '';\n",
              "          dataTable['output_type'] = 'display_data';\n",
              "          await google.colab.output.renderOutput(dataTable, element);\n",
              "          const docLink = document.createElement('div');\n",
              "          docLink.innerHTML = docLinkHtml;\n",
              "          element.appendChild(docLink);\n",
              "        }\n",
              "      </script>\n",
              "    </div>\n",
              "  </div>\n",
              "  "
            ]
          },
          "metadata": {},
          "execution_count": 153
        }
      ]
    },
    {
      "cell_type": "markdown",
      "source": [
        "By examining the VADER analysis output, we can get an overall understanding of the sentiment polarity and strength of the reviews, and use that information to draw insights about people's attitudes towards women's clothing. For example, if the majority of the reviews have a positive sentiment polarity and high VADER scores, we can infer that people generally have a positive attitude towards women's clothing. Conversely, if the majority of the reviews have a negative sentiment polarity and low VADER scores, we can infer that people generally have a negative attitude towards women's clothing."
      ],
      "metadata": {
        "id": "u6AP3SaR_cM1"
      }
    },
    {
      "cell_type": "markdown",
      "source": [
        "Note that A positive score indicates positive sentiment, a negative score indicates negative sentiment, and a score around 0 indicates neutral sentiment. "
      ],
      "metadata": {
        "id": "zFqcautUc4_j"
      }
    },
    {
      "cell_type": "markdown",
      "source": [
        "## VADER Model Evaluation"
      ],
      "metadata": {
        "id": "ijpAuVxd_lDO"
      }
    },
    {
      "cell_type": "code",
      "source": [
        "from sklearn import metrics\n",
        "print('Accuracy Rate:', np.round(metrics.accuracy_score(test_polarity, \n",
        "                                VADER_polarity_test_df['VADER Polarity']), 3),\"\\n\")"
      ],
      "metadata": {
        "colab": {
          "base_uri": "https://localhost:8080/"
        },
        "id": "HflyrifEdvwo",
        "outputId": "236c2c46-f7c2-41af-c472-c2ac1d6fc875"
      },
      "execution_count": 154,
      "outputs": [
        {
          "output_type": "stream",
          "name": "stdout",
          "text": [
            "Accuracy Rate: 0.78 \n",
            "\n"
          ]
        }
      ]
    },
    {
      "cell_type": "code",
      "source": [
        "pd.crosstab(pd.Series(test_polarity), \n",
        "            pd.Series(VADER_polarity_test_df['VADER Polarity']), \n",
        "            rownames = ['True:'], \n",
        "            colnames = ['Predicted:'], \n",
        "            margins = True)"
      ],
      "metadata": {
        "colab": {
          "base_uri": "https://localhost:8080/",
          "height": 206
        },
        "id": "WR80KO8x3BUS",
        "outputId": "8bf49d23-7fe8-4101-bf45-f8d5f60a1d10"
      },
      "execution_count": 155,
      "outputs": [
        {
          "output_type": "execute_result",
          "data": {
            "text/plain": [
              "Predicted:  negative  positive   All\n",
              "True:                               \n",
              "negative         123       347   470\n",
              "netural           86       534   620\n",
              "positive          67      3541  3608\n",
              "All              276      4422  4698"
            ],
            "text/html": [
              "\n",
              "  <div id=\"df-6e962c4d-7748-4ca1-a585-14551ca562ca\">\n",
              "    <div class=\"colab-df-container\">\n",
              "      <div>\n",
              "<style scoped>\n",
              "    .dataframe tbody tr th:only-of-type {\n",
              "        vertical-align: middle;\n",
              "    }\n",
              "\n",
              "    .dataframe tbody tr th {\n",
              "        vertical-align: top;\n",
              "    }\n",
              "\n",
              "    .dataframe thead th {\n",
              "        text-align: right;\n",
              "    }\n",
              "</style>\n",
              "<table border=\"1\" class=\"dataframe\">\n",
              "  <thead>\n",
              "    <tr style=\"text-align: right;\">\n",
              "      <th>Predicted:</th>\n",
              "      <th>negative</th>\n",
              "      <th>positive</th>\n",
              "      <th>All</th>\n",
              "    </tr>\n",
              "    <tr>\n",
              "      <th>True:</th>\n",
              "      <th></th>\n",
              "      <th></th>\n",
              "      <th></th>\n",
              "    </tr>\n",
              "  </thead>\n",
              "  <tbody>\n",
              "    <tr>\n",
              "      <th>negative</th>\n",
              "      <td>123</td>\n",
              "      <td>347</td>\n",
              "      <td>470</td>\n",
              "    </tr>\n",
              "    <tr>\n",
              "      <th>netural</th>\n",
              "      <td>86</td>\n",
              "      <td>534</td>\n",
              "      <td>620</td>\n",
              "    </tr>\n",
              "    <tr>\n",
              "      <th>positive</th>\n",
              "      <td>67</td>\n",
              "      <td>3541</td>\n",
              "      <td>3608</td>\n",
              "    </tr>\n",
              "    <tr>\n",
              "      <th>All</th>\n",
              "      <td>276</td>\n",
              "      <td>4422</td>\n",
              "      <td>4698</td>\n",
              "    </tr>\n",
              "  </tbody>\n",
              "</table>\n",
              "</div>\n",
              "      <button class=\"colab-df-convert\" onclick=\"convertToInteractive('df-6e962c4d-7748-4ca1-a585-14551ca562ca')\"\n",
              "              title=\"Convert this dataframe to an interactive table.\"\n",
              "              style=\"display:none;\">\n",
              "        \n",
              "  <svg xmlns=\"http://www.w3.org/2000/svg\" height=\"24px\"viewBox=\"0 0 24 24\"\n",
              "       width=\"24px\">\n",
              "    <path d=\"M0 0h24v24H0V0z\" fill=\"none\"/>\n",
              "    <path d=\"M18.56 5.44l.94 2.06.94-2.06 2.06-.94-2.06-.94-.94-2.06-.94 2.06-2.06.94zm-11 1L8.5 8.5l.94-2.06 2.06-.94-2.06-.94L8.5 2.5l-.94 2.06-2.06.94zm10 10l.94 2.06.94-2.06 2.06-.94-2.06-.94-.94-2.06-.94 2.06-2.06.94z\"/><path d=\"M17.41 7.96l-1.37-1.37c-.4-.4-.92-.59-1.43-.59-.52 0-1.04.2-1.43.59L10.3 9.45l-7.72 7.72c-.78.78-.78 2.05 0 2.83L4 21.41c.39.39.9.59 1.41.59.51 0 1.02-.2 1.41-.59l7.78-7.78 2.81-2.81c.8-.78.8-2.07 0-2.86zM5.41 20L4 18.59l7.72-7.72 1.47 1.35L5.41 20z\"/>\n",
              "  </svg>\n",
              "      </button>\n",
              "      \n",
              "  <style>\n",
              "    .colab-df-container {\n",
              "      display:flex;\n",
              "      flex-wrap:wrap;\n",
              "      gap: 12px;\n",
              "    }\n",
              "\n",
              "    .colab-df-convert {\n",
              "      background-color: #E8F0FE;\n",
              "      border: none;\n",
              "      border-radius: 50%;\n",
              "      cursor: pointer;\n",
              "      display: none;\n",
              "      fill: #1967D2;\n",
              "      height: 32px;\n",
              "      padding: 0 0 0 0;\n",
              "      width: 32px;\n",
              "    }\n",
              "\n",
              "    .colab-df-convert:hover {\n",
              "      background-color: #E2EBFA;\n",
              "      box-shadow: 0px 1px 2px rgba(60, 64, 67, 0.3), 0px 1px 3px 1px rgba(60, 64, 67, 0.15);\n",
              "      fill: #174EA6;\n",
              "    }\n",
              "\n",
              "    [theme=dark] .colab-df-convert {\n",
              "      background-color: #3B4455;\n",
              "      fill: #D2E3FC;\n",
              "    }\n",
              "\n",
              "    [theme=dark] .colab-df-convert:hover {\n",
              "      background-color: #434B5C;\n",
              "      box-shadow: 0px 1px 3px 1px rgba(0, 0, 0, 0.15);\n",
              "      filter: drop-shadow(0px 1px 2px rgba(0, 0, 0, 0.3));\n",
              "      fill: #FFFFFF;\n",
              "    }\n",
              "  </style>\n",
              "\n",
              "      <script>\n",
              "        const buttonEl =\n",
              "          document.querySelector('#df-6e962c4d-7748-4ca1-a585-14551ca562ca button.colab-df-convert');\n",
              "        buttonEl.style.display =\n",
              "          google.colab.kernel.accessAllowed ? 'block' : 'none';\n",
              "\n",
              "        async function convertToInteractive(key) {\n",
              "          const element = document.querySelector('#df-6e962c4d-7748-4ca1-a585-14551ca562ca');\n",
              "          const dataTable =\n",
              "            await google.colab.kernel.invokeFunction('convertToInteractive',\n",
              "                                                     [key], {});\n",
              "          if (!dataTable) return;\n",
              "\n",
              "          const docLinkHtml = 'Like what you see? Visit the ' +\n",
              "            '<a target=\"_blank\" href=https://colab.research.google.com/notebooks/data_table.ipynb>data table notebook</a>'\n",
              "            + ' to learn more about interactive tables.';\n",
              "          element.innerHTML = '';\n",
              "          dataTable['output_type'] = 'display_data';\n",
              "          await google.colab.output.renderOutput(dataTable, element);\n",
              "          const docLink = document.createElement('div');\n",
              "          docLink.innerHTML = docLinkHtml;\n",
              "          element.appendChild(docLink);\n",
              "        }\n",
              "      </script>\n",
              "    </div>\n",
              "  </div>\n",
              "  "
            ]
          },
          "metadata": {},
          "execution_count": 155
        }
      ]
    },
    {
      "cell_type": "markdown",
      "source": [
        "Precision = true positives / (true positives + false positives)\n",
        "\n",
        "Interpretation: what share of reviews identified as positive by the algorithm are truely positive?\n",
        "\n",
        "Recall (Sensitivity) = true positives / (true positives + false negatives)\n",
        "\n",
        "Interpretation: what share of truely positive reviews in the data was identified as positive by the algorithm?"
      ],
      "metadata": {
        "id": "aG_hAkl-32zj"
      }
    },
    {
      "cell_type": "code",
      "source": [
        "precision = 3541/4422\n",
        "print(\"The precision for this VADER lexicon-based sentiment analysis tool is \"+ str(precision))"
      ],
      "metadata": {
        "colab": {
          "base_uri": "https://localhost:8080/"
        },
        "id": "wKUwtBBU3EqQ",
        "outputId": "c17a9fcd-d2ea-4968-cab7-84b1e522fdef"
      },
      "execution_count": 135,
      "outputs": [
        {
          "output_type": "stream",
          "name": "stdout",
          "text": [
            "The precision for this VADER lexicon-based sentiment analysis tool is 0.8007688828584351\n"
          ]
        }
      ]
    },
    {
      "cell_type": "code",
      "source": [
        "recall = 3541/3608\n",
        "print(\"The recall(sensitivity) for this VADER lexicon-based sentiment analysis tool is \"+ str(recall))"
      ],
      "metadata": {
        "colab": {
          "base_uri": "https://localhost:8080/"
        },
        "id": "OQmNY1ZJ5NoJ",
        "outputId": "4b77dfd9-7391-4a82-f4b2-e04f5b44a15d"
      },
      "execution_count": 136,
      "outputs": [
        {
          "output_type": "stream",
          "name": "stdout",
          "text": [
            "The recall(sensitivity) for this VADER lexicon-based sentiment analysis tool is 0.981430155210643\n"
          ]
        }
      ]
    },
    {
      "cell_type": "markdown",
      "source": [
        "Have a look at raw VADER scores assigned to actual positive reviews (we sort the reviews by the VADER score in a decreasing order):"
      ],
      "metadata": {
        "id": "fraj81rp5hqk"
      }
    },
    {
      "cell_type": "code",
      "source": [
        "import matplotlib.pyplot as plt\n",
        "\n",
        "pos_reviews_scored = VADER_polarity_test_df[:500]['VADER Score']\n",
        "plt.bar(range(0, 500), pos_reviews_scored.sort_values(ascending=False))\n",
        "plt.xlabel(\"Reviews with positive ACTUAL polarity\")\n",
        "plt.ylabel(\"VADER Score\")\n",
        "plt.title(\"VADER Scores for ACTUAL Positive Reviews \\n (in decreasing order of VADER scores)\")\n",
        "plt.show()"
      ],
      "metadata": {
        "colab": {
          "base_uri": "https://localhost:8080/",
          "height": 493
        },
        "id": "TnMjZHPy5cN6",
        "outputId": "5669e454-9008-4c6c-e6fb-76225c71f038"
      },
      "execution_count": 156,
      "outputs": [
        {
          "output_type": "display_data",
          "data": {
            "text/plain": [
              "<Figure size 640x480 with 1 Axes>"
            ],
            "image/png": "[encoded data removed]"
          },
          "metadata": {}
        }
      ]
    },
    {
      "cell_type": "markdown",
      "source": [
        "Now, have a look at VADER scores assigned to actual negative reviews (we sort the reviews by the VADER score in a decreasing order):\n",
        "\n"
      ],
      "metadata": {
        "id": "EkXXaq4R5low"
      }
    },
    {
      "cell_type": "code",
      "source": [
        "neg_reviews_scored = VADER_polarity_test_df[500:1000]['VADER Score']\n",
        "plt.bar(range(0, 500), neg_reviews_scored.sort_values(ascending=True))\n",
        "plt.xlabel(\"Reviews with negative ACTUAL polarity\")\n",
        "plt.ylabel(\"VADER score\")\n",
        "plt.title(\"VADER Scores for ACTUAL Negative Reviews \\n (in ascending order of VADER scores)\")\n",
        "plt.show()"
      ],
      "metadata": {
        "colab": {
          "base_uri": "https://localhost:8080/",
          "height": 493
        },
        "id": "roA4Qa3V5mJf",
        "outputId": "51e703eb-2c8f-4565-c37b-761457e4ddbc"
      },
      "execution_count": 157,
      "outputs": [
        {
          "output_type": "display_data",
          "data": {
            "text/plain": [
              "<Figure size 640x480 with 1 Axes>"
            ],
            "image/png": "[encoded data removed]"
          },
          "metadata": {}
        }
      ]
    },
    {
      "cell_type": "markdown",
      "source": [
        "The precision score is 0.8. Therefore, about 20% (100% - 80%) of reviews identified by VADER as positive (given the threshold score for a positive review is set to 0.1), are actually negative reviews. VADER is pretty effective at picking up positive sentiment as confirmed by the recall rate of 0.98. The plots confirm the above.\n",
        "But VADER with this setting is not particularly good at correctly identifying negative sentiment. "
      ],
      "metadata": {
        "id": "8uNL0Zzo6svp"
      }
    },
    {
      "cell_type": "markdown",
      "source": [
        "To improve the identification of negative sentiments, We'd like to try adjusting the threshold used in the VADER sentiment analysis. Currently we used compound rate(threshold) = -0.009 which returns the optimal accuracy rate for us. A rather lower threshold may help to capture more negative sentiment in the reviews."
      ],
      "metadata": {
        "id": "e4JSJ4wUA6zY"
      }
    },
    {
      "cell_type": "markdown",
      "source": [
        "## VADER Sentiment Analysis by Department"
      ],
      "metadata": {
        "id": "xJOPKMCBB7Tf"
      }
    },
    {
      "cell_type": "code",
      "source": [
        "# create polarity based on \"Rating\" column\n",
        "def polarity_group(val):\n",
        "    if val == 1 or val == 2:\n",
        "        return 'negative'\n",
        "    elif val == 3:\n",
        "        return 'neutral'\n",
        "    else:\n",
        "        return 'positive'\n",
        "\n",
        "df['polarity'] = df['Rating'].apply(polarity_group)\n",
        "\n",
        "# group the data by department\n",
        "grouped = df.groupby('Department Name')\n"
      ],
      "metadata": {
        "colab": {
          "base_uri": "https://localhost:8080/"
        },
        "id": "mGIIl_CbCAyg",
        "outputId": "b7a13654-dfc7-49e2-9027-12156ad2d65a"
      },
      "execution_count": 137,
      "outputs": [
        {
          "output_type": "execute_result",
          "data": {
            "text/plain": [
              "<pandas.core.groupby.generic.DataFrameGroupBy object at 0x7fc537aa8e80>"
            ]
          },
          "metadata": {},
          "execution_count": 137
        }
      ]
    },
    {
      "cell_type": "code",
      "source": [
        "\n",
        "# perform sentiment analysis on each department\n",
        "sentiments = []\n",
        "for group_name, group_data in grouped:\n",
        "    department_reviews = group_data['Review Text'].tolist()\n",
        "    normalized_reviews = normalize_corpus(department_reviews)\n",
        "    VADER_polarity = [analyze_sentiment_vader_lexicon(review, threshold=optimal_threshold)[0] for review in normalized_reviews]\n",
        "    sentiments.append((group_name, VADER_polarity))\n",
        "# sentiments"
      ],
      "metadata": {
        "id": "xX0gq7OnCHVb"
      },
      "execution_count": null,
      "outputs": []
    },
    {
      "cell_type": "code",
      "source": [
        "# combine the sentiment analysis with topic modeling\n",
        "sentiments_df = pd.DataFrame(sentiments, columns=['Department Name', 'Sentiment'])\n",
        "sentiments_df"
      ],
      "metadata": {
        "colab": {
          "base_uri": "https://localhost:8080/",
          "height": 238
        },
        "id": "qOKQvSDsCIqn",
        "outputId": "db36b018-6b36-45b1-b85e-0d6c83dc7b19"
      },
      "execution_count": 159,
      "outputs": [
        {
          "output_type": "execute_result",
          "data": {
            "text/plain": [
              "  Department Name                                          Sentiment\n",
              "0         Bottoms  [positive, positive, positive, positive, posit...\n",
              "1         Dresses  [positive, positive, positive, positive, posit...\n",
              "2        Intimate  [positive, positive, positive, positive, posit...\n",
              "3         Jackets  [positive, positive, positive, positive, posit...\n",
              "4            Tops  [positive, positive, positive, positive, posit...\n",
              "5           Trend  [positive, positive, positive, positive, posit..."
            ],
            "text/html": [
              "\n",
              "  <div id=\"df-a429ed56-60e9-468c-b4b7-c17062ff5e04\">\n",
              "    <div class=\"colab-df-container\">\n",
              "      <div>\n",
              "<style scoped>\n",
              "    .dataframe tbody tr th:only-of-type {\n",
              "        vertical-align: middle;\n",
              "    }\n",
              "\n",
              "    .dataframe tbody tr th {\n",
              "        vertical-align: top;\n",
              "    }\n",
              "\n",
              "    .dataframe thead th {\n",
              "        text-align: right;\n",
              "    }\n",
              "</style>\n",
              "<table border=\"1\" class=\"dataframe\">\n",
              "  <thead>\n",
              "    <tr style=\"text-align: right;\">\n",
              "      <th></th>\n",
              "      <th>Department Name</th>\n",
              "      <th>Sentiment</th>\n",
              "    </tr>\n",
              "  </thead>\n",
              "  <tbody>\n",
              "    <tr>\n",
              "      <th>0</th>\n",
              "      <td>Bottoms</td>\n",
              "      <td>[positive, positive, positive, positive, posit...</td>\n",
              "    </tr>\n",
              "    <tr>\n",
              "      <th>1</th>\n",
              "      <td>Dresses</td>\n",
              "      <td>[positive, positive, positive, positive, posit...</td>\n",
              "    </tr>\n",
              "    <tr>\n",
              "      <th>2</th>\n",
              "      <td>Intimate</td>\n",
              "      <td>[positive, positive, positive, positive, posit...</td>\n",
              "    </tr>\n",
              "    <tr>\n",
              "      <th>3</th>\n",
              "      <td>Jackets</td>\n",
              "      <td>[positive, positive, positive, positive, posit...</td>\n",
              "    </tr>\n",
              "    <tr>\n",
              "      <th>4</th>\n",
              "      <td>Tops</td>\n",
              "      <td>[positive, positive, positive, positive, posit...</td>\n",
              "    </tr>\n",
              "    <tr>\n",
              "      <th>5</th>\n",
              "      <td>Trend</td>\n",
              "      <td>[positive, positive, positive, positive, posit...</td>\n",
              "    </tr>\n",
              "  </tbody>\n",
              "</table>\n",
              "</div>\n",
              "      <button class=\"colab-df-convert\" onclick=\"convertToInteractive('df-a429ed56-60e9-468c-b4b7-c17062ff5e04')\"\n",
              "              title=\"Convert this dataframe to an interactive table.\"\n",
              "              style=\"display:none;\">\n",
              "        \n",
              "  <svg xmlns=\"http://www.w3.org/2000/svg\" height=\"24px\"viewBox=\"0 0 24 24\"\n",
              "       width=\"24px\">\n",
              "    <path d=\"M0 0h24v24H0V0z\" fill=\"none\"/>\n",
              "    <path d=\"M18.56 5.44l.94 2.06.94-2.06 2.06-.94-2.06-.94-.94-2.06-.94 2.06-2.06.94zm-11 1L8.5 8.5l.94-2.06 2.06-.94-2.06-.94L8.5 2.5l-.94 2.06-2.06.94zm10 10l.94 2.06.94-2.06 2.06-.94-2.06-.94-.94-2.06-.94 2.06-2.06.94z\"/><path d=\"M17.41 7.96l-1.37-1.37c-.4-.4-.92-.59-1.43-.59-.52 0-1.04.2-1.43.59L10.3 9.45l-7.72 7.72c-.78.78-.78 2.05 0 2.83L4 21.41c.39.39.9.59 1.41.59.51 0 1.02-.2 1.41-.59l7.78-7.78 2.81-2.81c.8-.78.8-2.07 0-2.86zM5.41 20L4 18.59l7.72-7.72 1.47 1.35L5.41 20z\"/>\n",
              "  </svg>\n",
              "      </button>\n",
              "      \n",
              "  <style>\n",
              "    .colab-df-container {\n",
              "      display:flex;\n",
              "      flex-wrap:wrap;\n",
              "      gap: 12px;\n",
              "    }\n",
              "\n",
              "    .colab-df-convert {\n",
              "      background-color: #E8F0FE;\n",
              "      border: none;\n",
              "      border-radius: 50%;\n",
              "      cursor: pointer;\n",
              "      display: none;\n",
              "      fill: #1967D2;\n",
              "      height: 32px;\n",
              "      padding: 0 0 0 0;\n",
              "      width: 32px;\n",
              "    }\n",
              "\n",
              "    .colab-df-convert:hover {\n",
              "      background-color: #E2EBFA;\n",
              "      box-shadow: 0px 1px 2px rgba(60, 64, 67, 0.3), 0px 1px 3px 1px rgba(60, 64, 67, 0.15);\n",
              "      fill: #174EA6;\n",
              "    }\n",
              "\n",
              "    [theme=dark] .colab-df-convert {\n",
              "      background-color: #3B4455;\n",
              "      fill: #D2E3FC;\n",
              "    }\n",
              "\n",
              "    [theme=dark] .colab-df-convert:hover {\n",
              "      background-color: #434B5C;\n",
              "      box-shadow: 0px 1px 3px 1px rgba(0, 0, 0, 0.15);\n",
              "      filter: drop-shadow(0px 1px 2px rgba(0, 0, 0, 0.3));\n",
              "      fill: #FFFFFF;\n",
              "    }\n",
              "  </style>\n",
              "\n",
              "      <script>\n",
              "        const buttonEl =\n",
              "          document.querySelector('#df-a429ed56-60e9-468c-b4b7-c17062ff5e04 button.colab-df-convert');\n",
              "        buttonEl.style.display =\n",
              "          google.colab.kernel.accessAllowed ? 'block' : 'none';\n",
              "\n",
              "        async function convertToInteractive(key) {\n",
              "          const element = document.querySelector('#df-a429ed56-60e9-468c-b4b7-c17062ff5e04');\n",
              "          const dataTable =\n",
              "            await google.colab.kernel.invokeFunction('convertToInteractive',\n",
              "                                                     [key], {});\n",
              "          if (!dataTable) return;\n",
              "\n",
              "          const docLinkHtml = 'Like what you see? Visit the ' +\n",
              "            '<a target=\"_blank\" href=https://colab.research.google.com/notebooks/data_table.ipynb>data table notebook</a>'\n",
              "            + ' to learn more about interactive tables.';\n",
              "          element.innerHTML = '';\n",
              "          dataTable['output_type'] = 'display_data';\n",
              "          await google.colab.output.renderOutput(dataTable, element);\n",
              "          const docLink = document.createElement('div');\n",
              "          docLink.innerHTML = docLinkHtml;\n",
              "          element.appendChild(docLink);\n",
              "        }\n",
              "      </script>\n",
              "    </div>\n",
              "  </div>\n",
              "  "
            ]
          },
          "metadata": {},
          "execution_count": 159
        }
      ]
    },
    {
      "cell_type": "markdown",
      "source": [
        "It turned out that almost all the sentiments are positive! This doesn't make much sense. We are using threshold that returns the highest accuracy rate, which is -0.009. The precision rate in that case is 0.8 and recall rate is 0.98. But even after We made the threshold lower, VADER still couldn't capture the negative comments. So our next step is to train our own supervised model and see if the results can be improved. "
      ],
      "metadata": {
        "id": "j0f-y6ufGhz4"
      }
    },
    {
      "cell_type": "markdown",
      "source": [
        "## Support Vector Machines (SVM)"
      ],
      "metadata": {
        "id": "aZnCCOjGIUXB"
      }
    },
    {
      "cell_type": "markdown",
      "source": [
        "To perform SVM, we need a labeled dataset with each comment labeled as positive, negative, or neutral. While the rating may not be equivalent to sentiment, here we still want to use it to create our labeled dataset by mapping ratings to sentiments. "
      ],
      "metadata": {
        "id": "Dcu83O-fIRaq"
      }
    },
    {
      "cell_type": "code",
      "source": [
        "# extract the review text and fill the nas\n",
        "df['Review Text'].fillna('', inplace=True)"
      ],
      "metadata": {
        "id": "oX_B29HcmPFJ"
      },
      "execution_count": 9,
      "outputs": []
    },
    {
      "cell_type": "markdown",
      "source": [
        "Consider that our dataset is imbalanced with higher proportion of positive reviews, here we'd like to assign only reviews with rating = 5 as positive comment."
      ],
      "metadata": {
        "id": "ff7aFclovCNC"
      }
    },
    {
      "cell_type": "code",
      "source": [
        "def map_rating_to_sentiment(rating):\n",
        "    if rating in [5]:\n",
        "        return 'positive'\n",
        "    elif rating in [3, 4]:\n",
        "        return 'neutral'\n",
        "    elif rating in [1, 2]:\n",
        "        return 'negative'\n",
        "\n",
        "df['sentiment'] = df['Rating'].apply(map_rating_to_sentiment)\n"
      ],
      "metadata": {
        "id": "-pcZgCYrLeZ2"
      },
      "execution_count": 10,
      "outputs": []
    },
    {
      "cell_type": "code",
      "source": [
        "df.head(5)"
      ],
      "metadata": {
        "colab": {
          "base_uri": "https://localhost:8080/",
          "height": 563
        },
        "id": "ZMw6-No8nX_q",
        "outputId": "fe80c664-8239-4cb7-fe16-867640937e8f"
      },
      "execution_count": 247,
      "outputs": [
        {
          "output_type": "execute_result",
          "data": {
            "text/plain": [
              "   Unnamed: 0  Clothing ID  Age                    Title  \\\n",
              "0           0          767   33                      NaN   \n",
              "1           1         1080   34                      NaN   \n",
              "2           2         1077   60  Some major design flaws   \n",
              "3           3         1049   50         My favorite buy!   \n",
              "4           4          847   47         Flattering shirt   \n",
              "\n",
              "                                         Review Text  Rating  Recommended IND  \\\n",
              "0  Absolutely wonderful - silky and sexy and comf...       4                1   \n",
              "1  Love this dress!  it's sooo pretty.  i happene...       5                1   \n",
              "2  I had such high hopes for this dress and reall...       3                0   \n",
              "3  I love, love, love this jumpsuit. it's fun, fl...       5                1   \n",
              "4  This shirt is very flattering to all due to th...       5                1   \n",
              "\n",
              "   Positive Feedback Count   Division Name Department Name Class Name  \\\n",
              "0                        0       Initmates        Intimate  Intimates   \n",
              "1                        4         General         Dresses    Dresses   \n",
              "2                        0         General         Dresses    Dresses   \n",
              "3                        0  General Petite         Bottoms      Pants   \n",
              "4                        6         General            Tops    Blouses   \n",
              "\n",
              "  sentiment  \n",
              "0   neutral  \n",
              "1  positive  \n",
              "2   neutral  \n",
              "3  positive  \n",
              "4  positive  "
            ],
            "text/html": [
              "\n",
              "  <div id=\"df-78e858de-68b2-4ef1-b878-8c1d64ec632b\">\n",
              "    <div class=\"colab-df-container\">\n",
              "      <div>\n",
              "<style scoped>\n",
              "    .dataframe tbody tr th:only-of-type {\n",
              "        vertical-align: middle;\n",
              "    }\n",
              "\n",
              "    .dataframe tbody tr th {\n",
              "        vertical-align: top;\n",
              "    }\n",
              "\n",
              "    .dataframe thead th {\n",
              "        text-align: right;\n",
              "    }\n",
              "</style>\n",
              "<table border=\"1\" class=\"dataframe\">\n",
              "  <thead>\n",
              "    <tr style=\"text-align: right;\">\n",
              "      <th></th>\n",
              "      <th>Unnamed: 0</th>\n",
              "      <th>Clothing ID</th>\n",
              "      <th>Age</th>\n",
              "      <th>Title</th>\n",
              "      <th>Review Text</th>\n",
              "      <th>Rating</th>\n",
              "      <th>Recommended IND</th>\n",
              "      <th>Positive Feedback Count</th>\n",
              "      <th>Division Name</th>\n",
              "      <th>Department Name</th>\n",
              "      <th>Class Name</th>\n",
              "      <th>sentiment</th>\n",
              "    </tr>\n",
              "  </thead>\n",
              "  <tbody>\n",
              "    <tr>\n",
              "      <th>0</th>\n",
              "      <td>0</td>\n",
              "      <td>767</td>\n",
              "      <td>33</td>\n",
              "      <td>NaN</td>\n",
              "      <td>Absolutely wonderful - silky and sexy and comf...</td>\n",
              "      <td>4</td>\n",
              "      <td>1</td>\n",
              "      <td>0</td>\n",
              "      <td>Initmates</td>\n",
              "      <td>Intimate</td>\n",
              "      <td>Intimates</td>\n",
              "      <td>neutral</td>\n",
              "    </tr>\n",
              "    <tr>\n",
              "      <th>1</th>\n",
              "      <td>1</td>\n",
              "      <td>1080</td>\n",
              "      <td>34</td>\n",
              "      <td>NaN</td>\n",
              "      <td>Love this dress!  it's sooo pretty.  i happene...</td>\n",
              "      <td>5</td>\n",
              "      <td>1</td>\n",
              "      <td>4</td>\n",
              "      <td>General</td>\n",
              "      <td>Dresses</td>\n",
              "      <td>Dresses</td>\n",
              "      <td>positive</td>\n",
              "    </tr>\n",
              "    <tr>\n",
              "      <th>2</th>\n",
              "      <td>2</td>\n",
              "      <td>1077</td>\n",
              "      <td>60</td>\n",
              "      <td>Some major design flaws</td>\n",
              "      <td>I had such high hopes for this dress and reall...</td>\n",
              "      <td>3</td>\n",
              "      <td>0</td>\n",
              "      <td>0</td>\n",
              "      <td>General</td>\n",
              "      <td>Dresses</td>\n",
              "      <td>Dresses</td>\n",
              "      <td>neutral</td>\n",
              "    </tr>\n",
              "    <tr>\n",
              "      <th>3</th>\n",
              "      <td>3</td>\n",
              "      <td>1049</td>\n",
              "      <td>50</td>\n",
              "      <td>My favorite buy!</td>\n",
              "      <td>I love, love, love this jumpsuit. it's fun, fl...</td>\n",
              "      <td>5</td>\n",
              "      <td>1</td>\n",
              "      <td>0</td>\n",
              "      <td>General Petite</td>\n",
              "      <td>Bottoms</td>\n",
              "      <td>Pants</td>\n",
              "      <td>positive</td>\n",
              "    </tr>\n",
              "    <tr>\n",
              "      <th>4</th>\n",
              "      <td>4</td>\n",
              "      <td>847</td>\n",
              "      <td>47</td>\n",
              "      <td>Flattering shirt</td>\n",
              "      <td>This shirt is very flattering to all due to th...</td>\n",
              "      <td>5</td>\n",
              "      <td>1</td>\n",
              "      <td>6</td>\n",
              "      <td>General</td>\n",
              "      <td>Tops</td>\n",
              "      <td>Blouses</td>\n",
              "      <td>positive</td>\n",
              "    </tr>\n",
              "  </tbody>\n",
              "</table>\n",
              "</div>\n",
              "      <button class=\"colab-df-convert\" onclick=\"convertToInteractive('df-78e858de-68b2-4ef1-b878-8c1d64ec632b')\"\n",
              "              title=\"Convert this dataframe to an interactive table.\"\n",
              "              style=\"display:none;\">\n",
              "        \n",
              "  <svg xmlns=\"http://www.w3.org/2000/svg\" height=\"24px\"viewBox=\"0 0 24 24\"\n",
              "       width=\"24px\">\n",
              "    <path d=\"M0 0h24v24H0V0z\" fill=\"none\"/>\n",
              "    <path d=\"M18.56 5.44l.94 2.06.94-2.06 2.06-.94-2.06-.94-.94-2.06-.94 2.06-2.06.94zm-11 1L8.5 8.5l.94-2.06 2.06-.94-2.06-.94L8.5 2.5l-.94 2.06-2.06.94zm10 10l.94 2.06.94-2.06 2.06-.94-2.06-.94-.94-2.06-.94 2.06-2.06.94z\"/><path d=\"M17.41 7.96l-1.37-1.37c-.4-.4-.92-.59-1.43-.59-.52 0-1.04.2-1.43.59L10.3 9.45l-7.72 7.72c-.78.78-.78 2.05 0 2.83L4 21.41c.39.39.9.59 1.41.59.51 0 1.02-.2 1.41-.59l7.78-7.78 2.81-2.81c.8-.78.8-2.07 0-2.86zM5.41 20L4 18.59l7.72-7.72 1.47 1.35L5.41 20z\"/>\n",
              "  </svg>\n",
              "      </button>\n",
              "      \n",
              "  <style>\n",
              "    .colab-df-container {\n",
              "      display:flex;\n",
              "      flex-wrap:wrap;\n",
              "      gap: 12px;\n",
              "    }\n",
              "\n",
              "    .colab-df-convert {\n",
              "      background-color: #E8F0FE;\n",
              "      border: none;\n",
              "      border-radius: 50%;\n",
              "      cursor: pointer;\n",
              "      display: none;\n",
              "      fill: #1967D2;\n",
              "      height: 32px;\n",
              "      padding: 0 0 0 0;\n",
              "      width: 32px;\n",
              "    }\n",
              "\n",
              "    .colab-df-convert:hover {\n",
              "      background-color: #E2EBFA;\n",
              "      box-shadow: 0px 1px 2px rgba(60, 64, 67, 0.3), 0px 1px 3px 1px rgba(60, 64, 67, 0.15);\n",
              "      fill: #174EA6;\n",
              "    }\n",
              "\n",
              "    [theme=dark] .colab-df-convert {\n",
              "      background-color: #3B4455;\n",
              "      fill: #D2E3FC;\n",
              "    }\n",
              "\n",
              "    [theme=dark] .colab-df-convert:hover {\n",
              "      background-color: #434B5C;\n",
              "      box-shadow: 0px 1px 3px 1px rgba(0, 0, 0, 0.15);\n",
              "      filter: drop-shadow(0px 1px 2px rgba(0, 0, 0, 0.3));\n",
              "      fill: #FFFFFF;\n",
              "    }\n",
              "  </style>\n",
              "\n",
              "      <script>\n",
              "        const buttonEl =\n",
              "          document.querySelector('#df-78e858de-68b2-4ef1-b878-8c1d64ec632b button.colab-df-convert');\n",
              "        buttonEl.style.display =\n",
              "          google.colab.kernel.accessAllowed ? 'block' : 'none';\n",
              "\n",
              "        async function convertToInteractive(key) {\n",
              "          const element = document.querySelector('#df-78e858de-68b2-4ef1-b878-8c1d64ec632b');\n",
              "          const dataTable =\n",
              "            await google.colab.kernel.invokeFunction('convertToInteractive',\n",
              "                                                     [key], {});\n",
              "          if (!dataTable) return;\n",
              "\n",
              "          const docLinkHtml = 'Like what you see? Visit the ' +\n",
              "            '<a target=\"_blank\" href=https://colab.research.google.com/notebooks/data_table.ipynb>data table notebook</a>'\n",
              "            + ' to learn more about interactive tables.';\n",
              "          element.innerHTML = '';\n",
              "          dataTable['output_type'] = 'display_data';\n",
              "          await google.colab.output.renderOutput(dataTable, element);\n",
              "          const docLink = document.createElement('div');\n",
              "          docLink.innerHTML = docLinkHtml;\n",
              "          element.appendChild(docLink);\n",
              "        }\n",
              "      </script>\n",
              "    </div>\n",
              "  </div>\n",
              "  "
            ]
          },
          "metadata": {},
          "execution_count": 247
        }
      ]
    },
    {
      "cell_type": "code",
      "source": [
        "model_target = \"sentiment\"\n",
        "model_features = df.columns.drop(\"sentiment\")\n",
        "\n",
        "print(\"Model Target: \",model_target)\n",
        "print(\"Model Features: \",model_features)"
      ],
      "metadata": {
        "colab": {
          "base_uri": "https://localhost:8080/"
        },
        "id": "aNd_5Cf-MLd8",
        "outputId": "fc230d87-2a5f-4441-a918-6f8b53f9e861"
      },
      "execution_count": 229,
      "outputs": [
        {
          "output_type": "stream",
          "name": "stdout",
          "text": [
            "Model Target:  sentiment\n",
            "Model Features:  Index(['Unnamed: 0', 'Clothing ID', 'Age', 'Title', 'Review Text', 'Rating',\n",
            "       'Recommended IND', 'Positive Feedback Count', 'Division Name',\n",
            "       'Department Name', 'Class Name'],\n",
            "      dtype='object')\n"
          ]
        }
      ]
    },
    {
      "cell_type": "code",
      "source": [
        "# See our target distribution\n",
        "df[model_target].value_counts(normalize=True)"
      ],
      "metadata": {
        "colab": {
          "base_uri": "https://localhost:8080/"
        },
        "id": "gy27iKuqMQ4n",
        "outputId": "91a513b5-80c6-44fa-c761-812952403ea8"
      },
      "execution_count": 230,
      "outputs": [
        {
          "output_type": "execute_result",
          "data": {
            "text/plain": [
              "positive    0.559099\n",
              "neutral     0.338414\n",
              "negative    0.102487\n",
              "Name: sentiment, dtype: float64"
            ]
          },
          "metadata": {},
          "execution_count": 230
        }
      ]
    },
    {
      "cell_type": "markdown",
      "source": [
        "(Caution: the code below takes around 15 minutes)"
      ],
      "metadata": {
        "id": "sTr3a71TsvdW"
      }
    },
    {
      "cell_type": "markdown",
      "source": [
        "Now, train the supervised linear SVM classification model on our own, and predict the sentiment score for each review using our SVM model. "
      ],
      "metadata": {
        "id": "mdkcqE9QVGKT"
      }
    },
    {
      "cell_type": "code",
      "source": [
        "from sklearn.svm import SVC\n",
        "from sklearn.feature_extraction.text import TfidfVectorizer\n",
        "\n",
        "# Define the feature vector and the target variable\n",
        "X = df['Review Text']\n",
        "y = df['sentiment']\n",
        "\n",
        "# Convert the text data into numerical vectors using the TF-IDF vectorizer\n",
        "vectorizer = TfidfVectorizer()\n",
        "X_vec = vectorizer.fit_transform(X)\n",
        "\n",
        "# Split the data into training and testing sets\n",
        "from sklearn.model_selection import train_test_split\n",
        "X_train_vec, X_test_vec, y_train, y_test = train_test_split(X_vec, y, test_size=0.2, random_state=42)\n",
        "\n",
        "# Train a linear SVM model\n",
        "svm = SVC(kernel='linear', probability=True)\n",
        "svm.fit(X_train_vec, y_train)\n",
        "\n",
        "# Predict the sentiment score for all review texts in the dataset\n",
        "y_pred = svm.predict(X_vec)\n",
        "\n",
        "# Add the predicted sentiment score as a new column in the dataframe\n",
        "df['SentimentScore'] = y_pred\n"
      ],
      "metadata": {
        "id": "aacck4yQjkB9"
      },
      "execution_count": 14,
      "outputs": []
    },
    {
      "cell_type": "code",
      "source": [
        "df.head()"
      ],
      "metadata": {
        "colab": {
          "base_uri": "https://localhost:8080/",
          "height": 669
        },
        "id": "VWiqrrFtsshs",
        "outputId": "392656f7-762a-4a08-fcbb-bb3d09af20bd"
      },
      "execution_count": 15,
      "outputs": [
        {
          "output_type": "execute_result",
          "data": {
            "text/plain": [
              "   Unnamed: 0  Clothing ID  Age                    Title  \\\n",
              "0           0          767   33                      NaN   \n",
              "1           1         1080   34                      NaN   \n",
              "2           2         1077   60  Some major design flaws   \n",
              "3           3         1049   50         My favorite buy!   \n",
              "4           4          847   47         Flattering shirt   \n",
              "\n",
              "                                         Review Text  Rating  Recommended IND  \\\n",
              "0  Absolutely wonderful - silky and sexy and comf...       4                1   \n",
              "1  Love this dress!  it's sooo pretty.  i happene...       5                1   \n",
              "2  I had such high hopes for this dress and reall...       3                0   \n",
              "3  I love, love, love this jumpsuit. it's fun, fl...       5                1   \n",
              "4  This shirt is very flattering to all due to th...       5                1   \n",
              "\n",
              "   Positive Feedback Count   Division Name Department Name Class Name  \\\n",
              "0                        0       Initmates        Intimate  Intimates   \n",
              "1                        4         General         Dresses    Dresses   \n",
              "2                        0         General         Dresses    Dresses   \n",
              "3                        0  General Petite         Bottoms      Pants   \n",
              "4                        6         General            Tops    Blouses   \n",
              "\n",
              "  sentiment                                            topic SentimentScore  \n",
              "0   neutral  Fit, wearability, and love for tops and dresses       positive  \n",
              "1  positive                  Sizing and Fit for Petite Women       positive  \n",
              "2   neutral                  Sizing and Fit for Petite Women        neutral  \n",
              "3  positive              Fit and Comfortable Jeans and Pants       positive  \n",
              "4  positive               Fitting and Sizing Issues for Tops       positive  "
            ],
            "text/html": [
              "\n",
              "  <div id=\"df-ef0ca53b-c783-4729-8e50-e6ebf061d574\">\n",
              "    <div class=\"colab-df-container\">\n",
              "      <div>\n",
              "<style scoped>\n",
              "    .dataframe tbody tr th:only-of-type {\n",
              "        vertical-align: middle;\n",
              "    }\n",
              "\n",
              "    .dataframe tbody tr th {\n",
              "        vertical-align: top;\n",
              "    }\n",
              "\n",
              "    .dataframe thead th {\n",
              "        text-align: right;\n",
              "    }\n",
              "</style>\n",
              "<table border=\"1\" class=\"dataframe\">\n",
              "  <thead>\n",
              "    <tr style=\"text-align: right;\">\n",
              "      <th></th>\n",
              "      <th>Unnamed: 0</th>\n",
              "      <th>Clothing ID</th>\n",
              "      <th>Age</th>\n",
              "      <th>Title</th>\n",
              "      <th>Review Text</th>\n",
              "      <th>Rating</th>\n",
              "      <th>Recommended IND</th>\n",
              "      <th>Positive Feedback Count</th>\n",
              "      <th>Division Name</th>\n",
              "      <th>Department Name</th>\n",
              "      <th>Class Name</th>\n",
              "      <th>sentiment</th>\n",
              "      <th>topic</th>\n",
              "      <th>SentimentScore</th>\n",
              "    </tr>\n",
              "  </thead>\n",
              "  <tbody>\n",
              "    <tr>\n",
              "      <th>0</th>\n",
              "      <td>0</td>\n",
              "      <td>767</td>\n",
              "      <td>33</td>\n",
              "      <td>NaN</td>\n",
              "      <td>Absolutely wonderful - silky and sexy and comf...</td>\n",
              "      <td>4</td>\n",
              "      <td>1</td>\n",
              "      <td>0</td>\n",
              "      <td>Initmates</td>\n",
              "      <td>Intimate</td>\n",
              "      <td>Intimates</td>\n",
              "      <td>neutral</td>\n",
              "      <td>Fit, wearability, and love for tops and dresses</td>\n",
              "      <td>positive</td>\n",
              "    </tr>\n",
              "    <tr>\n",
              "      <th>1</th>\n",
              "      <td>1</td>\n",
              "      <td>1080</td>\n",
              "      <td>34</td>\n",
              "      <td>NaN</td>\n",
              "      <td>Love this dress!  it's sooo pretty.  i happene...</td>\n",
              "      <td>5</td>\n",
              "      <td>1</td>\n",
              "      <td>4</td>\n",
              "      <td>General</td>\n",
              "      <td>Dresses</td>\n",
              "      <td>Dresses</td>\n",
              "      <td>positive</td>\n",
              "      <td>Sizing and Fit for Petite Women</td>\n",
              "      <td>positive</td>\n",
              "    </tr>\n",
              "    <tr>\n",
              "      <th>2</th>\n",
              "      <td>2</td>\n",
              "      <td>1077</td>\n",
              "      <td>60</td>\n",
              "      <td>Some major design flaws</td>\n",
              "      <td>I had such high hopes for this dress and reall...</td>\n",
              "      <td>3</td>\n",
              "      <td>0</td>\n",
              "      <td>0</td>\n",
              "      <td>General</td>\n",
              "      <td>Dresses</td>\n",
              "      <td>Dresses</td>\n",
              "      <td>neutral</td>\n",
              "      <td>Sizing and Fit for Petite Women</td>\n",
              "      <td>neutral</td>\n",
              "    </tr>\n",
              "    <tr>\n",
              "      <th>3</th>\n",
              "      <td>3</td>\n",
              "      <td>1049</td>\n",
              "      <td>50</td>\n",
              "      <td>My favorite buy!</td>\n",
              "      <td>I love, love, love this jumpsuit. it's fun, fl...</td>\n",
              "      <td>5</td>\n",
              "      <td>1</td>\n",
              "      <td>0</td>\n",
              "      <td>General Petite</td>\n",
              "      <td>Bottoms</td>\n",
              "      <td>Pants</td>\n",
              "      <td>positive</td>\n",
              "      <td>Fit and Comfortable Jeans and Pants</td>\n",
              "      <td>positive</td>\n",
              "    </tr>\n",
              "    <tr>\n",
              "      <th>4</th>\n",
              "      <td>4</td>\n",
              "      <td>847</td>\n",
              "      <td>47</td>\n",
              "      <td>Flattering shirt</td>\n",
              "      <td>This shirt is very flattering to all due to th...</td>\n",
              "      <td>5</td>\n",
              "      <td>1</td>\n",
              "      <td>6</td>\n",
              "      <td>General</td>\n",
              "      <td>Tops</td>\n",
              "      <td>Blouses</td>\n",
              "      <td>positive</td>\n",
              "      <td>Fitting and Sizing Issues for Tops</td>\n",
              "      <td>positive</td>\n",
              "    </tr>\n",
              "  </tbody>\n",
              "</table>\n",
              "</div>\n",
              "      <button class=\"colab-df-convert\" onclick=\"convertToInteractive('df-ef0ca53b-c783-4729-8e50-e6ebf061d574')\"\n",
              "              title=\"Convert this dataframe to an interactive table.\"\n",
              "              style=\"display:none;\">\n",
              "        \n",
              "  <svg xmlns=\"http://www.w3.org/2000/svg\" height=\"24px\"viewBox=\"0 0 24 24\"\n",
              "       width=\"24px\">\n",
              "    <path d=\"M0 0h24v24H0V0z\" fill=\"none\"/>\n",
              "    <path d=\"M18.56 5.44l.94 2.06.94-2.06 2.06-.94-2.06-.94-.94-2.06-.94 2.06-2.06.94zm-11 1L8.5 8.5l.94-2.06 2.06-.94-2.06-.94L8.5 2.5l-.94 2.06-2.06.94zm10 10l.94 2.06.94-2.06 2.06-.94-2.06-.94-.94-2.06-.94 2.06-2.06.94z\"/><path d=\"M17.41 7.96l-1.37-1.37c-.4-.4-.92-.59-1.43-.59-.52 0-1.04.2-1.43.59L10.3 9.45l-7.72 7.72c-.78.78-.78 2.05 0 2.83L4 21.41c.39.39.9.59 1.41.59.51 0 1.02-.2 1.41-.59l7.78-7.78 2.81-2.81c.8-.78.8-2.07 0-2.86zM5.41 20L4 18.59l7.72-7.72 1.47 1.35L5.41 20z\"/>\n",
              "  </svg>\n",
              "      </button>\n",
              "      \n",
              "  <style>\n",
              "    .colab-df-container {\n",
              "      display:flex;\n",
              "      flex-wrap:wrap;\n",
              "      gap: 12px;\n",
              "    }\n",
              "\n",
              "    .colab-df-convert {\n",
              "      background-color: #E8F0FE;\n",
              "      border: none;\n",
              "      border-radius: 50%;\n",
              "      cursor: pointer;\n",
              "      display: none;\n",
              "      fill: #1967D2;\n",
              "      height: 32px;\n",
              "      padding: 0 0 0 0;\n",
              "      width: 32px;\n",
              "    }\n",
              "\n",
              "    .colab-df-convert:hover {\n",
              "      background-color: #E2EBFA;\n",
              "      box-shadow: 0px 1px 2px rgba(60, 64, 67, 0.3), 0px 1px 3px 1px rgba(60, 64, 67, 0.15);\n",
              "      fill: #174EA6;\n",
              "    }\n",
              "\n",
              "    [theme=dark] .colab-df-convert {\n",
              "      background-color: #3B4455;\n",
              "      fill: #D2E3FC;\n",
              "    }\n",
              "\n",
              "    [theme=dark] .colab-df-convert:hover {\n",
              "      background-color: #434B5C;\n",
              "      box-shadow: 0px 1px 3px 1px rgba(0, 0, 0, 0.15);\n",
              "      filter: drop-shadow(0px 1px 2px rgba(0, 0, 0, 0.3));\n",
              "      fill: #FFFFFF;\n",
              "    }\n",
              "  </style>\n",
              "\n",
              "      <script>\n",
              "        const buttonEl =\n",
              "          document.querySelector('#df-ef0ca53b-c783-4729-8e50-e6ebf061d574 button.colab-df-convert');\n",
              "        buttonEl.style.display =\n",
              "          google.colab.kernel.accessAllowed ? 'block' : 'none';\n",
              "\n",
              "        async function convertToInteractive(key) {\n",
              "          const element = document.querySelector('#df-ef0ca53b-c783-4729-8e50-e6ebf061d574');\n",
              "          const dataTable =\n",
              "            await google.colab.kernel.invokeFunction('convertToInteractive',\n",
              "                                                     [key], {});\n",
              "          if (!dataTable) return;\n",
              "\n",
              "          const docLinkHtml = 'Like what you see? Visit the ' +\n",
              "            '<a target=\"_blank\" href=https://colab.research.google.com/notebooks/data_table.ipynb>data table notebook</a>'\n",
              "            + ' to learn more about interactive tables.';\n",
              "          element.innerHTML = '';\n",
              "          dataTable['output_type'] = 'display_data';\n",
              "          await google.colab.output.renderOutput(dataTable, element);\n",
              "          const docLink = document.createElement('div');\n",
              "          docLink.innerHTML = docLinkHtml;\n",
              "          element.appendChild(docLink);\n",
              "        }\n",
              "      </script>\n",
              "    </div>\n",
              "  </div>\n",
              "  "
            ]
          },
          "metadata": {},
          "execution_count": 15
        }
      ]
    },
    {
      "cell_type": "markdown",
      "source": [
        "Evaluate the performance of the model using metrics such as accuracy, precision, recall, and F1-score."
      ],
      "metadata": {
        "id": "8lMRPqPpknON"
      }
    },
    {
      "cell_type": "code",
      "source": [
        "from sklearn.metrics import classification_report, confusion_matrix\n",
        "print(classification_report(y, y_pred))\n",
        "print(confusion_matrix(y, y_pred))"
      ],
      "metadata": {
        "colab": {
          "base_uri": "https://localhost:8080/"
        },
        "id": "tqO5rtBwkl2k",
        "outputId": "27b26308-632d-4c9c-bdcd-39e9d4a8a2dd"
      },
      "execution_count": 264,
      "outputs": [
        {
          "output_type": "stream",
          "name": "stdout",
          "text": [
            "              precision    recall  f1-score   support\n",
            "\n",
            "    negative       0.81      0.53      0.64      2407\n",
            "     neutral       0.73      0.66      0.69      7948\n",
            "    positive       0.82      0.92      0.87     13131\n",
            "\n",
            "    accuracy                           0.79     23486\n",
            "   macro avg       0.79      0.71      0.74     23486\n",
            "weighted avg       0.79      0.79      0.79     23486\n",
            "\n",
            "[[ 1283   946   178]\n",
            " [  247  5270  2431]\n",
            " [   46  1010 12075]]\n"
          ]
        }
      ]
    },
    {
      "cell_type": "markdown",
      "source": [
        "Based on the performance metrics of the SVM model, it appears to be performing reasonably well. The overall accuracy of the model is 0.79, which indicates that the model correctly predicted the sentiment of the review texts 79% of the time.\n",
        "\n",
        "The precision, recall, and F1-score for each sentiment class are also quite good, with the positive sentiment class having the highest scores for all three metrics. This suggests that the model is better at predicting positive sentiment than negative or neutral sentiment.\n",
        "\n",
        "However, it's worth noting that the support for the positive sentiment class is much higher than for the other classes. This may indicate that the model is biased towards predicting positive sentiment, which could be a problem if the dataset is not balanced. Additionally, the precision for the negative sentiment class is lower than the other classes, which could indicate that the model is more likely to predict negative sentiment incorrectly. Overall, the model seems to perform reasonably well, but it's important to consider these potential issues and assess whether the model is appropriate for the specific use case."
      ],
      "metadata": {
        "id": "kQbCiZ-7V83I"
      }
    },
    {
      "cell_type": "markdown",
      "source": [
        "# Synthesize Our Findings"
      ],
      "metadata": {
        "id": "gxwE6CF-RfY3"
      }
    },
    {
      "cell_type": "markdown",
      "source": [
        "To make connections between our sentiment analysis and the topics in each department, we can analyze the sentiment of reviews that mention specific keywords or topics related to each department.  \\\n",
        "For example, in the \"Bottoms\" department, we can analyze the sentiment of reviews that mention \"jeans\" or \"pants\" and focus on the topics of \"Fit and Comfortable Jeans and Pants\" or \"Skirts in Various Colors and Fabrics.\"  \\\n",
        "Similarly, for the \"Dresses\" department, we can analyze the sentiment of reviews that mention \"petite,\" \"flattering,\" or \"comfortable\" and focus on the topics of \"Sizing and Fit for Petite Women,\" \"Flattering and Comfortable Dresses,\" or \"Overall Look and Back Design.\"\n",
        "\n"
      ],
      "metadata": {
        "id": "GrM-8TgFRkjk"
      }
    },
    {
      "cell_type": "markdown",
      "source": [
        "(For example, if we find that customers are consistently complaining about sizing and fit issues with dresses in the \"Dresses\" department, we can use this feedback to make adjustments to our sizing charts or provide more detailed product descriptions. Similarly, if customers are consistently praising the comfort and versatility of tops in the \"Trend\" department, we can use this feedback to highlight these features in our marketing materials or expand our selection of similar products.)"
      ],
      "metadata": {
        "id": "jyqlpofWR7U_"
      }
    },
    {
      "cell_type": "markdown",
      "source": [
        "We'd like to compute the average sentiment score for each topic within each department, and compare them to see which topics are most positively or negatively associated with each department. "
      ],
      "metadata": {
        "id": "PovehjUScfBU"
      }
    },
    {
      "cell_type": "code",
      "source": [
        "# Define topics for each department\n",
        "bottoms_topics = {\n",
        "    \"Fit and Comfortable Jeans and Pants\": [\"jeans\", \"pants\", \"fit\", \"comfortable\"],\n",
        "    \"Skirts in Various Colors and Fabrics\": [\"skirts\", \"colors\", \"fabrics\"]\n",
        "}\n",
        "\n",
        "dresses_topics = {\n",
        "    \"Sizing and Fit for Petite Women\": [\"sizing\", \"petite women\", \"fit\"],\n",
        "    \"Flattering and Comfortable Dresses\": [\"flattering\", \"comfortable\", \"dresses\"],\n",
        "    \"Overall Look and Back Design\": [\"look\", \"design\", \"back\"]\n",
        "}\n",
        "\n",
        "intimate_topics = {\n",
        "    \"Fit, wearability, and love for tops and dresses\": [\"fit\", \"wearability\", \"love\", \"tops\", \"dresses\"],\n",
        "    \"Fitting and Sizing Issues for Suits and Leggings\": [\"fitting\", \"sizing\", \"issues\", \"suits\", \"leggings\"]\n",
        "}\n",
        "\n",
        "jackets_topics = {\n",
        "    \"Comfortable and Fitting Jackets\": [\"comfortable\", \"fitting\", \"jackets\"],\n",
        "    \"Coats and Vests for Different Occasions\": [\"coats\", \"vests\", \"occasions\"],\n",
        "    \"Fitting and Sizing Issues\": [\"fitting\", \"sizing\", \"issues\"]\n",
        "}\n",
        "\n",
        "tops_topics = {\n",
        "    \"Fitting and Sizing Issues for Tops\": [\"fitting\", \"sizing\", \"issues\", \"tops\"],\n",
        "    \"Versatile and Stylish Tops for Different Occasions\": [\"versatile\", \"stylish\", \"tops\", \"occasions\"],\n",
        "    \"Quality and Design Feedback\": [\"quality\", \"design\", \"feedback\"],\n",
        "    \"Soft and Comfortable Sweaters in Various Colors\": [\"soft\", \"comfortable\", \"sweaters\", \"colors\"]\n",
        "}\n",
        "\n",
        "trend_topics = {\n",
        "    \"fit and fabric\": [\"fit\", \"fabric\"],\n",
        "    \"color and overall appearance\": [\"color\", \"appearance\"]\n",
        "}\n"
      ],
      "metadata": {
        "id": "QVH63ErDPWS3"
      },
      "execution_count": 2,
      "outputs": []
    },
    {
      "cell_type": "code",
      "source": [
        "# Define a function to map the reviews to topics for each department\n",
        "def map_review_to_topic(review, topics):\n",
        "    topic_scores = {topic: 0 for topic in topics.keys()}\n",
        "    for word in review.split():\n",
        "        for topic, keywords in topics.items():\n",
        "            if word.lower() in keywords:\n",
        "                topic_scores[topic] += 1\n",
        "    return max(topic_scores, key=topic_scores.get)\n"
      ],
      "metadata": {
        "id": "5UqxF565U5H4"
      },
      "execution_count": 3,
      "outputs": []
    },
    {
      "cell_type": "code",
      "source": [
        "department_topics = {\n",
        "    \"Bottoms\": bottoms_topics,\n",
        "    \"Dresses\": dresses_topics,\n",
        "    \"Intimate\": intimate_topics,\n",
        "    \"Jackets\": jackets_topics,\n",
        "    \"Tops\": tops_topics,\n",
        "    \"Trend\": trend_topics\n",
        "}"
      ],
      "metadata": {
        "id": "h5lkGKNeX9CK"
      },
      "execution_count": 4,
      "outputs": []
    },
    {
      "cell_type": "markdown",
      "source": [
        "Now that we have mapped each review to its corresponding topic for each department, we can analyze the sentiment of each review and map it to the relevant topic."
      ],
      "metadata": {
        "id": "QV3qz9JLYq-S"
      }
    },
    {
      "cell_type": "code",
      "source": [
        "# Drop missing values in the \"Department Name\" column\n",
        "df = df.dropna(subset=[\"Department Name\"])\n",
        "df = df.dropna(subset=[\"Review Text\"])\n",
        "df = df.loc[df[\"Department Name\"] != \"\"]\n",
        "\n",
        "# Map reviews to topics for each department and store in a new column\n",
        "df[\"topic\"] = df.apply(lambda row: map_review_to_topic(row[\"Review Text\"], department_topics[row[\"Department Name\"]]), axis=1)\n",
        "\n",
        "# Group by department and topic and compute average sentiment score\n",
        "grouped = df.groupby([\"Department Name\", \"topic\"])[\"SentimentScore\"].apply(lambda x: (x == \"positive\").mean())\n",
        "\n",
        "# Print the results\n",
        "print(grouped)\n"
      ],
      "metadata": {
        "colab": {
          "base_uri": "https://localhost:8080/"
        },
        "id": "UYop8dI8p1FJ",
        "outputId": "ef2ef6a1-858b-4d86-c108-e6d12fca62dc"
      },
      "execution_count": 20,
      "outputs": [
        {
          "output_type": "stream",
          "name": "stdout",
          "text": [
            "Department Name  topic                                             \n",
            "Bottoms          Fit and Comfortable Jeans and Pants                   0.663930\n",
            "                 Skirts in Various Colors and Fabrics                  0.724138\n",
            "Dresses          Flattering and Comfortable Dresses                    0.728230\n",
            "                 Overall Look and Back Design                          0.458425\n",
            "                 Sizing and Fit for Petite Women                       0.596101\n",
            "Intimate         Fit, wearability, and love for tops and dresses       0.676811\n",
            "                 Fitting and Sizing Issues for Suits and Leggings      0.619565\n",
            "Jackets          Coats and Vests for Different Occasions               0.764706\n",
            "                 Comfortable and Fitting Jackets                       0.677387\n",
            "                 Fitting and Sizing Issues                             0.550000\n",
            "Tops             Fitting and Sizing Issues for Tops                    0.600812\n",
            "                 Quality and Design Feedback                           0.467758\n",
            "                 Soft and Comfortable Sweaters in Various Colors       0.750522\n",
            "                 Versatile and Stylish Tops for Different Occasions    0.852632\n",
            "Trend            color and overall appearance                          0.600000\n",
            "                 fit and fabric                                        0.500000\n",
            "Name: SentimentScore, dtype: float64\n"
          ]
        }
      ]
    },
    {
      "cell_type": "markdown",
      "source": [
        "Based on the average sentiment score predicted by the SVM model, we can draw several business insights. \\\n",
        "For example, we can see that Tops have a high average sentiment score of 0.852632 regarding its \"Versatile and Stylish Tops for Different Occasions\", indicating that customers are generally satisfied with the style of the tops. However, sentiments related to Quality and Design only scored 0.467758. Hence, we should focus on introducing new tops with versatile and stylish designs to cater to the customers' preferences while improve on its quality. "
      ],
      "metadata": {
        "id": "eTSLYR-WW6JG"
      }
    }
  ],
  "metadata": {
    "colab": {
      "provenance": [],
      "toc_visible": true
    },
    "kernelspec": {
      "display_name": "Python 3",
      "name": "python3"
    },
    "language_info": {
      "name": "python"
    }
  },
  "nbformat": 4,
  "nbformat_minor": 0
}